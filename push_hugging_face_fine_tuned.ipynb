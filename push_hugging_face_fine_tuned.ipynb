{
 "cells": [
  {
   "cell_type": "markdown",
   "id": "8afae1ad-af60-4968-b881-896882e86c94",
   "metadata": {},
   "source": [
    "# En este notebook vamos a cargar los modelos fine-tuneados a Hugging Face"
   ]
  },
  {
   "cell_type": "code",
   "execution_count": 24,
   "id": "cc9cd30e-9876-4c1b-8b13-075130b413c6",
   "metadata": {},
   "outputs": [],
   "source": [
    "import pandas as pd\n",
    "import numpy as np\n",
    "import os\n",
    "import re\n",
    "import pandas as pd\n",
    "import pyarrow as pa\n",
    "import pyarrow.parquet as pq\n",
    "import zipfile\n",
    "from io import BytesIO\n",
    "import requests\n",
    "from pathlib import Path\n"
   ]
  },
  {
   "cell_type": "code",
   "execution_count": 3,
   "id": "1c093f3c-f3cb-4c42-8ff4-94a76e5b62cb",
   "metadata": {
    "collapsed": true,
    "jupyter": {
     "outputs_hidden": true
    },
    "tags": []
   },
   "outputs": [
    {
     "name": "stdout",
     "output_type": "stream",
     "text": [
      "Requirement already satisfied: huggingface_hub in /opt/anaconda3/lib/python3.8/site-packages (0.17.3)\n",
      "Requirement already satisfied: filelock in /Users/achain/.local/lib/python3.8/site-packages (from huggingface_hub) (3.12.4)\n",
      "Requirement already satisfied: fsspec in /opt/anaconda3/lib/python3.8/site-packages (from huggingface_hub) (2022.10.0)\n",
      "Requirement already satisfied: requests in /opt/anaconda3/lib/python3.8/site-packages (from huggingface_hub) (2.27.1)\n",
      "Requirement already satisfied: tqdm>=4.42.1 in /opt/anaconda3/lib/python3.8/site-packages (from huggingface_hub) (4.64.0)\n",
      "Requirement already satisfied: pyyaml>=5.1 in /opt/anaconda3/lib/python3.8/site-packages (from huggingface_hub) (6.0)\n",
      "Requirement already satisfied: typing-extensions>=3.7.4.3 in /opt/anaconda3/lib/python3.8/site-packages (from huggingface_hub) (4.4.0)\n",
      "Requirement already satisfied: packaging>=20.9 in /opt/anaconda3/lib/python3.8/site-packages (from huggingface_hub) (21.3)\n",
      "Requirement already satisfied: pyparsing!=3.0.5,>=2.0.2 in /opt/anaconda3/lib/python3.8/site-packages (from packaging>=20.9->huggingface_hub) (3.0.4)\n",
      "Requirement already satisfied: urllib3<1.27,>=1.21.1 in /opt/anaconda3/lib/python3.8/site-packages (from requests->huggingface_hub) (1.26.9)\n",
      "Requirement already satisfied: certifi>=2017.4.17 in /opt/anaconda3/lib/python3.8/site-packages (from requests->huggingface_hub) (2022.6.15)\n",
      "Requirement already satisfied: charset-normalizer~=2.0.0 in /opt/anaconda3/lib/python3.8/site-packages (from requests->huggingface_hub) (2.0.4)\n",
      "Requirement already satisfied: idna<4,>=2.5 in /opt/anaconda3/lib/python3.8/site-packages (from requests->huggingface_hub) (2.10)\n"
     ]
    }
   ],
   "source": [
    "!pip install huggingface_hub\n"
   ]
  },
  {
   "cell_type": "markdown",
   "id": "e9a7c3af-e59b-4c91-9e1b-b0fe79424d42",
   "metadata": {},
   "source": [
    "## Guardamos el mejor modelo entrenado sin validación temporal"
   ]
  },
  {
   "cell_type": "code",
   "execution_count": 2,
   "id": "f2eaa451-566e-4ac2-aadf-ab48c013d440",
   "metadata": {},
   "outputs": [],
   "source": [
    "from transformers import BertForSequenceClassification\n",
    "from transformers import BertTokenizer\n",
    "\n",
    "model_dir = '/Users/achain/Downloads/bert_finetuned_no_time'\n",
    "model = BertForSequenceClassification.from_pretrained(model_dir)\n",
    "tokenizer = BertTokenizer.from_pretrained(model_dir)\n",
    "\n"
   ]
  },
  {
   "cell_type": "code",
   "execution_count": 47,
   "id": "faf006d0-ae0c-4fb4-bbdc-e1607a9c7721",
   "metadata": {},
   "outputs": [
    {
     "name": "stdout",
     "output_type": "stream",
     "text": [
      "Modelo BERT en /Users/achain/Downloads/bert_finetuned_no_time_local cargado.\n"
     ]
    }
   ],
   "source": [
    "with open(model_dir+ '/'+ \"label_texts.txt\", \"rt\") as f:\n",
    "  label_texts = f.read().split('\\n')\n",
    "print(f\"Modelo BERT en {model_dir} cargado.\")"
   ]
  },
  {
   "cell_type": "code",
   "execution_count": 8,
   "id": "c5f70e78-c95f-4f5b-8a9f-52145cc30e12",
   "metadata": {},
   "outputs": [
    {
     "data": {
      "text/plain": [
       "['eco', 'el-mun', 'socie', 'el-pai']"
      ]
     },
     "execution_count": 8,
     "metadata": {},
     "output_type": "execute_result"
    }
   ],
   "source": [
    "label_texts"
   ]
  },
  {
   "cell_type": "code",
   "execution_count": 4,
   "id": "4f7ffd70-2407-4d33-9320-c729a9fbb890",
   "metadata": {},
   "outputs": [
    {
     "data": {
      "application/vnd.jupyter.widget-view+json": {
       "model_id": "ed51480a02d3421b9859fc33f65345b7",
       "version_major": 2,
       "version_minor": 0
      },
      "text/plain": [
       "VBox(children=(HTML(value='<center> <img\\nsrc=https://huggingface.co/front/assets/huggingface_logo-noborder.sv…"
      ]
     },
     "metadata": {},
     "output_type": "display_data"
    }
   ],
   "source": [
    "from huggingface_hub import notebook_login\n",
    "\n",
    "notebook_login()"
   ]
  },
  {
   "cell_type": "code",
   "execution_count": 5,
   "id": "eac18276-ad8a-4f53-88b1-99dece2db87d",
   "metadata": {},
   "outputs": [
    {
     "data": {
      "application/vnd.jupyter.widget-view+json": {
       "model_id": "f294a835732345efaa0824a9fd82eb7f",
       "version_major": 2,
       "version_minor": 0
      },
      "text/plain": [
       "pytorch_model.bin:   0%|          | 0.00/439M [00:00<?, ?B/s]"
      ]
     },
     "metadata": {},
     "output_type": "display_data"
    },
    {
     "data": {
      "text/plain": [
       "CommitInfo(commit_url='https://huggingface.co/alechain/bert-finetunned-no-time/commit/03b1e580c8a6e91e9d21fc4e8f635dc6cf197e3e', commit_message='Upload BertForSequenceClassification', commit_description='', oid='03b1e580c8a6e91e9d21fc4e8f635dc6cf197e3e', pr_url=None, pr_revision=None, pr_num=None)"
      ]
     },
     "execution_count": 5,
     "metadata": {},
     "output_type": "execute_result"
    }
   ],
   "source": [
    "model.push_to_hub(\"alechain/bert-finetunned-no-time\")\n"
   ]
  },
  {
   "cell_type": "code",
   "execution_count": 6,
   "id": "54c64a69-4d70-4e76-b7d2-ba2537bcc035",
   "metadata": {},
   "outputs": [
    {
     "data": {
      "application/vnd.jupyter.widget-view+json": {
       "model_id": "5e181d18dc10486ead2694b3946925a5",
       "version_major": 2,
       "version_minor": 0
      },
      "text/plain": [
       "Downloading (…)lve/main/config.json:   0%|          | 0.00/971 [00:00<?, ?B/s]"
      ]
     },
     "metadata": {},
     "output_type": "display_data"
    },
    {
     "data": {
      "application/vnd.jupyter.widget-view+json": {
       "model_id": "79b0ca32de014856b6b8cb0f7dd61d02",
       "version_major": 2,
       "version_minor": 0
      },
      "text/plain": [
       "Downloading pytorch_model.bin:   0%|          | 0.00/439M [00:00<?, ?B/s]"
      ]
     },
     "metadata": {},
     "output_type": "display_data"
    }
   ],
   "source": [
    "model = BertForSequenceClassification.from_pretrained(\"alechain/bert-finetunned-no-time\")\n"
   ]
  },
  {
   "cell_type": "markdown",
   "id": "f920055c-35ba-4876-88fe-eef5b20c835e",
   "metadata": {
    "tags": []
   },
   "source": [
    "## Guardamos el mejor modelo entrenado CON validación temporal\n"
   ]
  },
  {
   "cell_type": "code",
   "execution_count": 26,
   "id": "765615e8-403f-4cf3-ad95-b850ad77e01d",
   "metadata": {},
   "outputs": [],
   "source": [
    "from transformers import BertForSequenceClassification\n",
    "from transformers import BertTokenizer\n",
    "\n",
    "model_dir = '/Users/achain/Downloads/bert_finetuned_time_local'\n",
    "model = BertForSequenceClassification.from_pretrained(model_dir)\n",
    "tokenizer = BertTokenizer.from_pretrained(model_dir)\n"
   ]
  },
  {
   "cell_type": "code",
   "execution_count": 3,
   "id": "8e17b0af-e31a-43fd-a5fd-7295b2791c21",
   "metadata": {},
   "outputs": [],
   "source": [
    "with open(model_dir+ '/'+ \"label_texts.txt\", \"rt\") as f:\n",
    "  label_texts = f.read().split('\\n')\n",
    "print(f\"Modelo BERT en {model_dir} cargado.\")"
   ]
  },
  {
   "cell_type": "code",
   "execution_count": 27,
   "id": "b9024f49-b759-42f1-a0f9-5b1409ce6333",
   "metadata": {},
   "outputs": [
    {
     "data": {
      "application/vnd.jupyter.widget-view+json": {
       "model_id": "f22efdfd0cbd4763aa324f3ceaa2b90b",
       "version_major": 2,
       "version_minor": 0
      },
      "text/plain": [
       "VBox(children=(HTML(value='<center> <img\\nsrc=https://huggingface.co/front/assets/huggingface_logo-noborder.sv…"
      ]
     },
     "metadata": {},
     "output_type": "display_data"
    }
   ],
   "source": [
    "from huggingface_hub import notebook_login\n",
    "\n",
    "notebook_login()"
   ]
  },
  {
   "cell_type": "code",
   "execution_count": 28,
   "id": "65866b14-fc78-4ac3-b4cb-069d29644394",
   "metadata": {},
   "outputs": [
    {
     "data": {
      "application/vnd.jupyter.widget-view+json": {
       "model_id": "76df6dbc888f4af48a659331d6717081",
       "version_major": 2,
       "version_minor": 0
      },
      "text/plain": [
       "pytorch_model.bin:   0%|          | 0.00/439M [00:00<?, ?B/s]"
      ]
     },
     "metadata": {},
     "output_type": "display_data"
    },
    {
     "data": {
      "text/plain": [
       "CommitInfo(commit_url='https://huggingface.co/alechain/bert-finetunned-time/commit/78e620a1b7885e0eaa60eebbd835e9ced6e44904', commit_message='Upload BertForSequenceClassification', commit_description='', oid='78e620a1b7885e0eaa60eebbd835e9ced6e44904', pr_url=None, pr_revision=None, pr_num=None)"
      ]
     },
     "execution_count": 28,
     "metadata": {},
     "output_type": "execute_result"
    }
   ],
   "source": [
    "model.push_to_hub(\"alechain/bert-finetunned-time\")\n"
   ]
  },
  {
   "cell_type": "code",
   "execution_count": null,
   "id": "bbe74728-c8f9-48d1-89b9-b12146d42933",
   "metadata": {},
   "outputs": [],
   "source": [
    "model = BertForSequenceClassification.from_pretrained(\"alechain/bert-finetunned-time\")\n"
   ]
  }
 ],
 "metadata": {
  "kernelspec": {
   "display_name": "Python 3 (ipykernel)",
   "language": "python",
   "name": "python3"
  },
  "language_info": {
   "codemirror_mode": {
    "name": "ipython",
    "version": 3
   },
   "file_extension": ".py",
   "mimetype": "text/x-python",
   "name": "python",
   "nbconvert_exporter": "python",
   "pygments_lexer": "ipython3",
   "version": "3.8.13"
  }
 },
 "nbformat": 4,
 "nbformat_minor": 5
}
