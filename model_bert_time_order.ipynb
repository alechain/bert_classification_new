{
 "cells": [
  {
   "cell_type": "markdown",
   "id": "6f75bf86",
   "metadata": {
    "colab_type": "text",
    "id": "view-in-github"
   },
   "source": [
    "<a href=\"https://colab.research.google.com/github/alechain/bert_classification_new/blob/main/model_bert_colab.ipynb\" target=\"_parent\"><img src=\"https://colab.research.google.com/assets/colab-badge.svg\" alt=\"Open In Colab\"/></a>"
   ]
  },
  {
   "cell_type": "code",
   "execution_count": 1,
   "id": "f5386553-3599-4b98-9c62-191f3aa16185",
   "metadata": {
    "id": "f5386553-3599-4b98-9c62-191f3aa16185"
   },
   "outputs": [],
   "source": [
    "import pandas as pd\n",
    "import numpy as np\n",
    "import os\n",
    "import re\n",
    "import pandas as pd\n",
    "import pyarrow as pa\n",
    "import pyarrow.parquet as pq\n",
    "import zipfile\n",
    "from io import BytesIO\n",
    "import requests\n",
    "from pathlib import Path"
   ]
  },
  {
   "cell_type": "markdown",
   "id": "eec6ec67-88e9-4c25-b6cb-85a0f122bd63",
   "metadata": {},
   "source": [
    "# Cargamos la base de datos"
   ]
  },
  {
   "cell_type": "code",
   "execution_count": 2,
   "id": "58947645-9a62-498e-b134-5078cc0cba8b",
   "metadata": {},
   "outputs": [],
   "source": [
    "\n",
    "# URL del dataset en Github\n",
    "zip_file_url = 'https://github.com/alechain/bert_classification_new/raw/main/articles_df_final.parquet.zip'\n",
    "\n",
    "# Descargamos el ZIP\n",
    "response = requests.get(zip_file_url)\n",
    "\n",
    "# chequeamos si se descargo bien (status code 200)\n",
    "if response.status_code == 200:\n",
    "    # Read the content of the zip file\n",
    "    with zipfile.ZipFile(BytesIO(response.content), 'r') as zip_file:\n",
    "        # Assume there's only one file in the zip, you may need to modify accordingly\n",
    "        file_name = zip_file.namelist()[0]\n",
    "\n",
    "        # Read the parquet file using pandas\n",
    "        with zip_file.open(file_name) as parquet_file:\n",
    "            my_dataset = pd.read_parquet(BytesIO(parquet_file.read()))\n",
    "else:\n",
    "    print(f\"Failed to download the file. Status code: {response.status_code}\")\n"
   ]
  },
  {
   "cell_type": "code",
   "execution_count": 3,
   "id": "dbfbecbe-f37f-4e7d-9936-8bf1c2220bd0",
   "metadata": {},
   "outputs": [],
   "source": [
    "#Filtramos posibles errores en articulos con longitud muy pequeña:\n",
    "my_dataset=my_dataset[[len(i)>=200 for i in my_dataset.sentence]].reset_index(drop=True)"
   ]
  },
  {
   "cell_type": "markdown",
   "id": "62d17a4c-e85b-4929-b779-a751abf53240",
   "metadata": {
    "colab": {
     "base_uri": "https://localhost:8080/",
     "height": 176
    },
    "id": "24bfab1f-1544-4354-a5ac-dd07f0ad385c",
    "outputId": "24321769-3ed2-4dd7-fb07-8205c3d0ac08",
    "tags": []
   },
   "source": [
    "# EDA de la base de datos"
   ]
  },
  {
   "cell_type": "code",
   "execution_count": 4,
   "id": "1d81e8f4-6b52-47f2-9eaf-0699b9d772f2",
   "metadata": {},
   "outputs": [
    {
     "data": {
      "text/html": [
       "<div>\n",
       "<style scoped>\n",
       "    .dataframe tbody tr th:only-of-type {\n",
       "        vertical-align: middle;\n",
       "    }\n",
       "\n",
       "    .dataframe tbody tr th {\n",
       "        vertical-align: top;\n",
       "    }\n",
       "\n",
       "    .dataframe thead th {\n",
       "        text-align: right;\n",
       "    }\n",
       "</style>\n",
       "<table border=\"1\" class=\"dataframe\">\n",
       "  <thead>\n",
       "    <tr style=\"text-align: right;\">\n",
       "      <th></th>\n",
       "      <th>label</th>\n",
       "      <th>sentence</th>\n",
       "      <th>date</th>\n",
       "    </tr>\n",
       "  </thead>\n",
       "  <tbody>\n",
       "    <tr>\n",
       "      <th>0</th>\n",
       "      <td>eco</td>\n",
       "      <td>&gt; El Ministerio de Economía creó el Programa d...</td>\n",
       "      <td>2023-01-19</td>\n",
       "    </tr>\n",
       "    <tr>\n",
       "      <th>1</th>\n",
       "      <td>eco</td>\n",
       "      <td>&gt; Los bonos soberanos en moneda extranjera reg...</td>\n",
       "      <td>2022-07-02</td>\n",
       "    </tr>\n",
       "    <tr>\n",
       "      <th>2</th>\n",
       "      <td>eco</td>\n",
       "      <td>&gt; El presidente Alberto Fernández, destacó que...</td>\n",
       "      <td>2022-08-11</td>\n",
       "    </tr>\n",
       "    <tr>\n",
       "      <th>3</th>\n",
       "      <td>eco</td>\n",
       "      <td>&gt; El Ente Nacional Regulador de la Electricida...</td>\n",
       "      <td>2022-09-10</td>\n",
       "    </tr>\n",
       "    <tr>\n",
       "      <th>4</th>\n",
       "      <td>eco</td>\n",
       "      <td>&gt; El Banco Central arrancó la semana comprando...</td>\n",
       "      <td>2023-05-23</td>\n",
       "    </tr>\n",
       "  </tbody>\n",
       "</table>\n",
       "</div>"
      ],
      "text/plain": [
       "  label                                           sentence        date\n",
       "0   eco  > El Ministerio de Economía creó el Programa d...  2023-01-19\n",
       "1   eco  > Los bonos soberanos en moneda extranjera reg...  2022-07-02\n",
       "2   eco  > El presidente Alberto Fernández, destacó que...  2022-08-11\n",
       "3   eco  > El Ente Nacional Regulador de la Electricida...  2022-09-10\n",
       "4   eco  > El Banco Central arrancó la semana comprando...  2023-05-23"
      ]
     },
     "execution_count": 4,
     "metadata": {},
     "output_type": "execute_result"
    }
   ],
   "source": [
    "my_dataset.head(5)"
   ]
  },
  {
   "cell_type": "code",
   "execution_count": 5,
   "id": "2fae9572-fa18-40a3-9b08-0d4f64e78571",
   "metadata": {},
   "outputs": [
    {
     "name": "stdout",
     "output_type": "stream",
     "text": [
      "Cantidad de articulos totales: 21057\n"
     ]
    }
   ],
   "source": [
    "print(f'Cantidad de articulos totales: {my_dataset.sentence.count()}')"
   ]
  },
  {
   "cell_type": "code",
   "execution_count": 6,
   "id": "d8301adc-969d-4853-9c4d-3ff6a7612343",
   "metadata": {
    "id": "d8301adc-969d-4853-9c4d-3ff6a7612343",
    "outputId": "c55b20a4-e4cd-44dc-a546-b93d9218fa8c"
   },
   "outputs": [
    {
     "name": "stdout",
     "output_type": "stream",
     "text": [
      "Fecha mínima de artículo: 2021-08-24\n",
      "Fecha máxima de artículo: 2023-10-06\n"
     ]
    }
   ],
   "source": [
    "print(f'Fecha mínima de artículo: {my_dataset.date.min()}\\nFecha máxima de artículo: {my_dataset.date.max()}')"
   ]
  },
  {
   "cell_type": "code",
   "execution_count": 7,
   "id": "83dead39-2c95-4a02-a8e1-93d54cf8f4bc",
   "metadata": {
    "id": "83dead39-2c95-4a02-a8e1-93d54cf8f4bc",
    "tags": []
   },
   "outputs": [
    {
     "name": "stdout",
     "output_type": "stream",
     "text": [
      "Cantidad de Artículos por Clase:\n",
      " label\n",
      "eco       5234\n",
      "el-mun    5239\n",
      "el-pai    5184\n",
      "socie     5400\n",
      "Name: sentence, dtype: int64\n"
     ]
    }
   ],
   "source": [
    "print(f'Cantidad de Artículos por Clase:\\n',my_dataset.groupby('label')['sentence'].count())"
   ]
  },
  {
   "cell_type": "code",
   "execution_count": 8,
   "id": "b2ee97cd-06ad-4d28-a048-cf3b8586d719",
   "metadata": {
    "id": "b2ee97cd-06ad-4d28-a048-cf3b8586d719"
   },
   "outputs": [
    {
     "name": "stdout",
     "output_type": "stream",
     "text": [
      "Longitud del texto media de los artículos: 4069.0 Palabras\n"
     ]
    }
   ],
   "source": [
    "length_text=np.array([len(i) for i in my_dataset.sentence])\n",
    "print(f'Longitud del texto media de los artículos: {np.round(length_text.mean(),0)} Palabras')"
   ]
  },
  {
   "cell_type": "code",
   "execution_count": 9,
   "id": "e5313be5-8d27-4eb8-936d-b06ec7694114",
   "metadata": {
    "id": "e5313be5-8d27-4eb8-936d-b06ec7694114",
    "outputId": "587ae7c8-374a-4fd2-af28-753ca6a52300"
   },
   "outputs": [
    {
     "name": "stdout",
     "output_type": "stream",
     "text": [
      "Longitud máxima de los artículos: 87059 Palabras\n"
     ]
    }
   ],
   "source": [
    "length_text=np.array([len(i) for i in my_dataset.sentence])\n",
    "print(f'Longitud máxima de los artículos: {np.round(length_text.max(),0)} Palabras')"
   ]
  },
  {
   "cell_type": "code",
   "execution_count": 10,
   "id": "e3a380f1-8ae8-4061-a4ae-59ce372752d2",
   "metadata": {
    "id": "e3a380f1-8ae8-4061-a4ae-59ce372752d2",
    "outputId": "436b4318-156f-475d-f04d-8d9e57208d09"
   },
   "outputs": [
    {
     "name": "stdout",
     "output_type": "stream",
     "text": [
      "Longitud mínima de los artículos: 212 Palabras\n"
     ]
    }
   ],
   "source": [
    "length_text=np.array([len(i) for i in my_dataset.sentence])\n",
    "print(f'Longitud mínima de los artículos: {np.round(length_text.min(),0)} Palabras')"
   ]
  },
  {
   "cell_type": "markdown",
   "id": "e4434fe5-fa30-47b1-8e88-a5fdf10cfa7e",
   "metadata": {
    "id": "46db5ddc-e713-48aa-890c-da565e16ec3a",
    "outputId": "88bc25df-3b6c-40a6-c97e-f57e1a089cde"
   },
   "source": [
    "# Fine tunning del modelo BERT"
   ]
  },
  {
   "cell_type": "code",
   "execution_count": 39,
   "id": "20c30719-6ca5-464c-afbd-cf3de544e2be",
   "metadata": {
    "id": "20c30719-6ca5-464c-afbd-cf3de544e2be",
    "tags": []
   },
   "outputs": [],
   "source": [
    "\n",
    "import torch\n",
    "from transformers import BertTokenizer"
   ]
  },
  {
   "cell_type": "code",
   "execution_count": 40,
   "id": "e3e422e9-698f-4eb8-87e8-271a3adb8af9",
   "metadata": {
    "colab": {
     "base_uri": "https://localhost:8080/"
    },
    "id": "e3e422e9-698f-4eb8-87e8-271a3adb8af9",
    "outputId": "49c80b9c-d7fd-4e6b-f828-62a5b1e09209"
   },
   "outputs": [
    {
     "name": "stdout",
     "output_type": "stream",
     "text": [
      "\n",
      "No hay GPU disponible, vamos a usar la CPU.\n",
      "\n"
     ]
    }
   ],
   "source": [
    "# Chequeamos si hay GPU disponible (recomendable correr en un Kaggle notebook con device GPU100 16gb)\n",
    "is_gpu = torch.cuda.is_available()\n",
    "if is_gpu:\n",
    "    # Decile a PyTorch que use la GPU.\n",
    "    device = torch.device(\"cuda\")\n",
    "    print(f'\\nHay {torch.cuda.device_count()} GPU(s) disponible(s).')\n",
    "    print(f'Vamos a usar la GPU: {torch.cuda.get_device_name(0)}.\\n')\n",
    "# si no hay GPU...\n",
    "else:\n",
    "    print('\\nNo hay GPU disponible, vamos a usar la CPU.\\n')\n",
    "    device = torch.device(\"cpu\")"
   ]
  },
  {
   "cell_type": "code",
   "execution_count": 4,
   "id": "b68c3744-7f76-4240-abe0-06155dcfe5f0",
   "metadata": {
    "id": "b68c3744-7f76-4240-abe0-06155dcfe5f0"
   },
   "outputs": [],
   "source": [
    "# Cargamos el tokenizador del modelo BERT en español (pre-trained)"
   ]
  },
  {
   "cell_type": "code",
   "execution_count": 75,
   "id": "77f02f23-a4bf-4f42-b98a-981291204544",
   "metadata": {
    "id": "77f02f23-a4bf-4f42-b98a-981291204544"
   },
   "outputs": [],
   "source": [
    "\n",
    "BERT_MODEL = 'Recognai/bert-base-spanish-wwm-cased-xnli'\n",
    "print('Cargando tokenizador de BERT...')\n",
    "tokenizer = BertTokenizer.from_pretrained(BERT_MODEL)\n",
    "print('\\nTokenizador de BERT listo.')"
   ]
  },
  {
   "cell_type": "markdown",
   "id": "e8171a1a-9a7d-493c-ad34-f8d3e6285b58",
   "metadata": {},
   "source": [
    " Re-ordenamos el dataset respetando la estructura temporal y sacamos los articulos mas nuevos para validar, vamos a extraer 300 articulos de cada clase lo que representa 1200 articulos, un 5.7% del dataset."
   ]
  },
  {
   "cell_type": "code",
   "execution_count": 20,
   "id": "49a49050-2068-4164-bd3a-4ec6c6206aad",
   "metadata": {},
   "outputs": [],
   "source": [
    "val_dataset=pd.DataFrame()\n",
    "for i in my_dataset.label.unique():\n",
    "    val_dataset=pd.concat([val_dataset,my_dataset[my_dataset['label']==i].sort_values(['label','date'],ascending=[True,False]).head(300)],axis=0)"
   ]
  },
  {
   "cell_type": "code",
   "execution_count": 34,
   "id": "ef220c7c-856a-4b8e-a321-5dcddc055686",
   "metadata": {
    "collapsed": true,
    "jupyter": {
     "outputs_hidden": true
    },
    "tags": []
   },
   "outputs": [
    {
     "data": {
      "text/html": [
       "<div>\n",
       "<style scoped>\n",
       "    .dataframe tbody tr th:only-of-type {\n",
       "        vertical-align: middle;\n",
       "    }\n",
       "\n",
       "    .dataframe tbody tr th {\n",
       "        vertical-align: top;\n",
       "    }\n",
       "\n",
       "    .dataframe thead th {\n",
       "        text-align: right;\n",
       "    }\n",
       "</style>\n",
       "<table border=\"1\" class=\"dataframe\">\n",
       "  <thead>\n",
       "    <tr style=\"text-align: right;\">\n",
       "      <th></th>\n",
       "      <th>label</th>\n",
       "      <th>sentence</th>\n",
       "      <th>date</th>\n",
       "    </tr>\n",
       "  </thead>\n",
       "  <tbody>\n",
       "    <tr>\n",
       "      <th>0</th>\n",
       "      <td>eco</td>\n",
       "      <td>&gt; Desde Mar del Plata La agenda del segundo dí...</td>\n",
       "      <td>2023-10-06</td>\n",
       "    </tr>\n",
       "    <tr>\n",
       "      <th>1</th>\n",
       "      <td>eco</td>\n",
       "      <td>&gt; La actividad industrial retrocedió en agosto...</td>\n",
       "      <td>2023-10-06</td>\n",
       "    </tr>\n",
       "    <tr>\n",
       "      <th>2</th>\n",
       "      <td>eco</td>\n",
       "      <td>&gt; La volatilidad en materia cambiaria y con lo...</td>\n",
       "      <td>2023-10-06</td>\n",
       "    </tr>\n",
       "    <tr>\n",
       "      <th>3</th>\n",
       "      <td>eco</td>\n",
       "      <td>&gt; La recurrente inclinación de Mauricio Macri ...</td>\n",
       "      <td>2023-10-06</td>\n",
       "    </tr>\n",
       "    <tr>\n",
       "      <th>4</th>\n",
       "      <td>eco</td>\n",
       "      <td>&gt; La exposición de Patricia Bullrich en el col...</td>\n",
       "      <td>2023-10-06</td>\n",
       "    </tr>\n",
       "    <tr>\n",
       "      <th>5</th>\n",
       "      <td>eco</td>\n",
       "      <td>&gt; El Ministerio de Economía cancelará los venc...</td>\n",
       "      <td>2023-10-06</td>\n",
       "    </tr>\n",
       "    <tr>\n",
       "      <th>6</th>\n",
       "      <td>eco</td>\n",
       "      <td>&gt; Pese a la fuerte suba que registró en los úl...</td>\n",
       "      <td>2023-10-06</td>\n",
       "    </tr>\n",
       "    <tr>\n",
       "      <th>7</th>\n",
       "      <td>eco</td>\n",
       "      <td>&gt; Desde Mar del Plata Un celular suena en la t...</td>\n",
       "      <td>2023-10-06</td>\n",
       "    </tr>\n",
       "    <tr>\n",
       "      <th>8</th>\n",
       "      <td>eco</td>\n",
       "      <td>&gt; Todavía está habilitado el período para insc...</td>\n",
       "      <td>2023-10-05</td>\n",
       "    </tr>\n",
       "    <tr>\n",
       "      <th>9</th>\n",
       "      <td>eco</td>\n",
       "      <td>&gt; La venta de materiales para la construcción ...</td>\n",
       "      <td>2023-10-05</td>\n",
       "    </tr>\n",
       "  </tbody>\n",
       "</table>\n",
       "</div>"
      ],
      "text/plain": [
       "  label                                           sentence        date\n",
       "0   eco  > Desde Mar del Plata La agenda del segundo dí...  2023-10-06\n",
       "1   eco  > La actividad industrial retrocedió en agosto...  2023-10-06\n",
       "2   eco  > La volatilidad en materia cambiaria y con lo...  2023-10-06\n",
       "3   eco  > La recurrente inclinación de Mauricio Macri ...  2023-10-06\n",
       "4   eco  > La exposición de Patricia Bullrich en el col...  2023-10-06\n",
       "5   eco  > El Ministerio de Economía cancelará los venc...  2023-10-06\n",
       "6   eco  > Pese a la fuerte suba que registró en los úl...  2023-10-06\n",
       "7   eco  > Desde Mar del Plata Un celular suena en la t...  2023-10-06\n",
       "8   eco  > Todavía está habilitado el período para insc...  2023-10-05\n",
       "9   eco  > La venta de materiales para la construcción ...  2023-10-05"
      ]
     },
     "execution_count": 34,
     "metadata": {},
     "output_type": "execute_result"
    }
   ],
   "source": [
    "val_dataset.head(10)"
   ]
  },
  {
   "cell_type": "code",
   "execution_count": 29,
   "id": "12c87989-736c-4610-ba5e-27a1397818a2",
   "metadata": {},
   "outputs": [],
   "source": [
    "my_dataset=my_dataset[~my_dataset.index.isin(val_dataset.index)].reset_index(drop=True)"
   ]
  },
  {
   "cell_type": "code",
   "execution_count": 31,
   "id": "b89102d4-f714-4721-8f74-eb28d7b4776d",
   "metadata": {},
   "outputs": [],
   "source": [
    "val_dataset=val_dataset.reset_index(drop=True)"
   ]
  },
  {
   "cell_type": "code",
   "execution_count": 32,
   "id": "a75d23ae-1ec7-4b69-b0d0-08b2a032e9b9",
   "metadata": {},
   "outputs": [
    {
     "name": "stdout",
     "output_type": "stream",
     "text": [
      "Cantidad de Artículos por Clase en Validation:\n",
      " label\n",
      "eco       300\n",
      "el-mun    300\n",
      "socie     300\n",
      "el-pai    300\n",
      "Name: count, dtype: int64\n"
     ]
    }
   ],
   "source": [
    "print(f'Cantidad de Artículos por Clase en Validation:\\n',val_dataset.label.value_counts())"
   ]
  },
  {
   "cell_type": "markdown",
   "id": "fadb19ea-188d-4a38-9a6d-735f8c52c718",
   "metadata": {},
   "source": [
    "Ahora definimos los parámetros para el tokenizador y para la cantidad de capas que vamos a hacer el fine tunning. En este caso solo vamos a usar los primeros 512 Tokens de cada noticia, estaremos perdiendo un poco de información (considerando el largo de los articulos) pero si el modelo logra un buen nivel de generalización debería poder clasificar un articulo con las primeras palabras de una noticia, sin necesidad de verla completamente.\n",
    "\n",
    "En este caso vamos a hacer el fine tunning de la última capa del encoding del modelo BERT (pre-trained) y de la última capa del clasificador.\n",
    "\n",
    "Vamos a entrenar con el 80% de la base, y validar con el restante 20%. Esto representa el 76% (.80*.95) de los artículos originales para train y el 19% (.20*.95) de los artículos originales para Test si consideramos el 5% original que se uso para validar.\n",
    "\n",
    "La cantidad de epochs depende de el tamaño de la base, se recomienda entre 2 a 4 epochs cada 1000 ejemplos de entrenamiento. Como la base tiene aproximadamente 20.000 artículos y es una cantidad muy extensa, para evitar el overfitting vamos a trabajar con solo 20 epochs."
   ]
  },
  {
   "cell_type": "raw",
   "id": "4b3ddddd-1019-4828-b5c9-948b18aec5bc",
   "metadata": {},
   "source": []
  },
  {
   "cell_type": "code",
   "execution_count": 8,
   "id": "752843f0-03c2-445b-8009-d63b7ff1334e",
   "metadata": {
    "id": "752843f0-03c2-445b-8009-d63b7ff1334e"
   },
   "outputs": [],
   "source": [
    "\n",
    "MY_DATASET_MAX_TOKENS = 512\n",
    "if MY_DATASET_MAX_TOKENS>512:\n",
    "  raise ValueError(f\"ERROR: BERT no puede codificar frases con mas de 512 tokens, pero MY_DATASET_MAX_TOKENS = {MY_DATASET_MAX_TOKENS}.\")\n",
    "\n",
    "\n",
    "LAYERS_TO_FINETUNE=2\n",
    "if LAYERS_TO_FINETUNE<1 or LAYERS_TO_FINETUNE>13:\n",
    "  raise ValueError(\"LAYERS_TO_FINETUNE no puede ser menor a 1 o mayor a 13, poque BERT tiene 12 capas de encoder + 1 de clasificacion.\")\n",
    "\n",
    "# Que porcentaje del dataset vamos a usar para entrenar ?\n",
    "TRAIN_FOR_PCT = 0.8\n",
    "TRAIN_FOLD_SIZE = int(TRAIN_FOR_PCT * len(my_dataset))\n",
    "\n",
    "# Number of training epochs. The BERT authors recommend between 2 and 4\n",
    "# for over 1000 examples.\n",
    "# We chose to run for 4, but this may be over-fitting the\n",
    "# training data.\n",
    "EPOCHS = 20"
   ]
  },
  {
   "cell_type": "code",
   "execution_count": 8,
   "id": "b37ea910-e952-4a2a-89ae-0a3e3a31a433",
   "metadata": {
    "id": "b37ea910-e952-4a2a-89ae-0a3e3a31a433"
   },
   "outputs": [],
   "source": []
  },
  {
   "cell_type": "markdown",
   "id": "3fc6ae07-5f95-409e-80cc-d36f2976bd51",
   "metadata": {
    "id": "2b3205d2-472d-469b-abd8-66a8a2e28a5a"
   },
   "source": [
    "En esta parte pre-procesamos el input para que pueda ser consumido por los pipelines de pytorch en forma de tensores para el fine-tunning de BERT."
   ]
  },
  {
   "cell_type": "code",
   "execution_count": 9,
   "id": "caceb041-ab81-4d45-83a3-f3f269aed276",
   "metadata": {
    "id": "caceb041-ab81-4d45-83a3-f3f269aed276"
   },
   "outputs": [],
   "source": [
    "# Crear las listas de frases labels numéricosx\n",
    "sentences = my_dataset.sentence.values\n",
    "# labels en BERT DEBEN SER enteros; aqui transformos los valores de los labels\n",
    "# a ints (mismo int, mismo valor), comenzando por 0.\n",
    "labels, label_texts = pd.factorize(my_dataset.label)\n",
    "\n",
    "# reordenar filas del dataset al azar; importante para el descenso de gradiente estocastico\n",
    "my_dataset = my_dataset.iloc[np.random.permutation(len(my_dataset))]\n",
    "my_dataset.reset_index(drop=True)\n",
    "\n",
    "# MI_DATASET_NUM_LABELS es la cantidad de categorias distintas en su columna 'label'.\n",
    "MY_DATASET_NUM_LABELS = labels.max() + 1"
   ]
  },
  {
   "cell_type": "markdown",
   "id": "014d37ab-e3ab-4e3a-af0d-110fa56b6a0b",
   "metadata": {},
   "source": [
    "Aca utilizamos la funcion de encode_plus para pre-procesar los artículos, en esta parte se van a truncar al max_length definido de 512 tokens y se van a agregar las máscaras para indicar que es un clasificador (CLS) y en donde terminan las frases con SEP."
   ]
  },
  {
   "cell_type": "code",
   "execution_count": 11,
   "id": "166381ec-dc54-41c2-94c1-aa40a62b072f",
   "metadata": {
    "id": "166381ec-dc54-41c2-94c1-aa40a62b072f"
   },
   "outputs": [],
   "source": [
    "# codificar frases en su dataset\n",
    "input_ids = []\n",
    "attention_masks = []\n",
    "\n",
    "# Por cada frase ...\n",
    "for sent in sentences:\n",
    "    # `encode_plus` va a :\n",
    "    #   (1) Tokenizar la frase.\n",
    "    #   (2) Poner el token `[CLS]` al comienzo de la frase.\n",
    "    #   (3) Poner el token `[SEP]` al final de la frase.\n",
    "    #   (4) Mapear tokens a sus IDs.\n",
    "    #   (5) Rellenar o truncar la frase a `max_length`\n",
    "    #   (6) Crear attention masks para los tokens [PAD].\n",
    "    encoded_dict = tokenizer.encode_plus(\n",
    "                        sent,                      # frase a codificar.\n",
    "                        add_special_tokens = True, # Agregar '[CLS]' y '[SEP]'\n",
    "                        max_length = MY_DATASET_MAX_TOKENS,  # Rellenar frases cortas, truncar largas\n",
    "                        padding='max_length',\n",
    "                        truncation=True,\n",
    "                        return_token_type_ids=True,\n",
    "                        return_attention_mask = True,   # Construir attn. masks  (diferencian padding de non-padding).\n",
    "                        return_tensors = 'pt',     # retornar los vectores de pytorchxs.\n",
    "                   )\n",
    "\n",
    "    # Agregar la frase codificada a la lista de frases\n",
    "    input_ids.append(encoded_dict['input_ids'])\n",
    "\n",
    "    # Agregar su correspondiente attention mask\n",
    "    attention_masks.append(encoded_dict['attention_mask'])\n",
    "\n",
    "# Convertiar las listas a tensores de Pytorch\n",
    "input_ids = torch.cat(input_ids, dim=0)\n",
    "attention_masks = torch.cat(attention_masks, dim=0)\n",
    "labels = torch.tensor(labels)"
   ]
  },
  {
   "cell_type": "code",
   "execution_count": 12,
   "id": "97477a26-506d-4bfc-9391-9957c63576fa",
   "metadata": {
    "colab": {
     "base_uri": "https://localhost:8080/",
     "height": 160
    },
    "collapsed": true,
    "id": "97477a26-506d-4bfc-9391-9957c63576fa",
    "jupyter": {
     "outputs_hidden": true
    },
    "outputId": "9df3f138-95fe-41b9-c62e-a61c6ba242df",
    "tags": []
   },
   "outputs": [
    {
     "name": "stderr",
     "output_type": "stream",
     "text": [
      "Be aware, overflowing tokens are not returned for the setting you have chosen, i.e. sequence pairs with the 'longest_first' truncation strategy. So the returned list will always be empty even if some tokens have been removed.\n"
     ]
    },
    {
     "data": {
      "application/vnd.google.colaboratory.intrinsic+json": {
       "type": "string"
      },
      "text/plain": [
       "'[CLS] [UNK] El Banco Central compró este jueves 9 millones de dólares en el mercado de cambios, con lo que registró 23 jornadas consecutivas con resultado positivo. La autoridad monetaria, al mismo tiempo, no modificó la tasa de interés en pesos, luego de los datos de inflación de agosto, cuando se anotó un alza del 12, 4 por ciento de aumentos en los precios minoristas. El dólar blue registró un retroceso de 10 pesos a [UNK] pesos por unidad. \" En septiembre, el Banco Central acumula compras por 350 millones de dólares y totaliza desde el 24 de julio más de 2. 500 millones \", según detalló Gustavo Quintana, analista de PR Corredores de Cambio. En lo referido al tipo de cambio, el dólar minorista cerró a 365, 50 pesos. En el segmento bursátil, el dólar contado con liquidación ( CCL ) bajó 0, 2 por ciento, a [UNK], 25 pesos [UNK] mientras que el MEP subió 0, 8 por ciento, a 681, 88 pesos, en el tramo final de la rueda. En el mercado mayorista, la divisa estadounidense finalizó con una caída de cinco centavos respecto al cierre previo, en un promedio de 350 pesos por unidad. En tanto, el Dólar Solidario y Dólar [SEP] [UNK] Vista, el segundo productor de shale oil de Argentina, presentó su nuevo plan estratégico en el cual planea para 2026 incrementar su producción diaria en un 25 [UNK], en comparación con la meta anunciada en 2021, alcanzando así los 100. 000 barriles diarios de petróleo equivalente por día ( boe [UNK] d ). La compañía proyecta invertir USD 2. 500 millones en Vaca Muerta durante los próximos tres años, lo que representa un aumento del 60 [UNK] con respecto al monto presentado en el plan anterior. El anuncio se realizó hoy en un nuevo Investor Day de la empresa el cual fue encabezado por Miguel Galuccio, fundador, presidente y CEO de Vista, quien estuvo acompañado por el equipo ejecutivo de la compañía. Al inicio de su presentación, Galuccio destacó el innovador modelo operativo y de negocios de la compañía, que en poco tiempo la ha transformado en una empresa eficiente, rentable y con bajas emisiones. Además, mencionó que [UNK] los resultados de los primeros cinco años de actividad se deben al trabajo de un equipo y una cultura de excelencia que nos ha encaminado hacia el logro de los objetivos estratégicos establecidos en 2021 [UNK]. Galuccio confirmó que Vista alcanzó un crecimiento exponencial de su acreage en Vaca Muerta [SEP]'"
      ]
     },
     "execution_count": 12,
     "metadata": {},
     "output_type": "execute_result"
    }
   ],
   "source": [
    "## este es para ver la frase\n",
    "tokenizer.decode(tokenizer.encode_plus( sentences[0],\n",
    "                        sent,                      # frase a codificar.\n",
    "                        add_special_tokens = True, # Agregar '[CLS]' y '[SEP]'\n",
    "                        max_length = MY_DATASET_MAX_TOKENS,  # Rellenar frases cortas, truncar largas\n",
    "                        padding='max_length',\n",
    "                        truncation=True)['input_ids'])"
   ]
  },
  {
   "cell_type": "markdown",
   "id": "a822d313-12ee-4b8c-adc0-6a6a67fcc368",
   "metadata": {
    "id": "a822d313-12ee-4b8c-adc0-6a6a67fcc368"
   },
   "source": [
    "# Cargamos el BERT en español pre-entrenado"
   ]
  },
  {
   "cell_type": "markdown",
   "id": "f132fef8-b8dc-4eca-8a81-d4cb25fed878",
   "metadata": {
    "id": "K7I3Z1iHzQKX"
   },
   "source": [
    "En esta parte cargamos el modelo BERT pre-entrenado"
   ]
  },
  {
   "cell_type": "code",
   "execution_count": 13,
   "id": "bc8c7164-7f27-4fe8-aa69-0c514800cdfd",
   "metadata": {
    "colab": {
     "base_uri": "https://localhost:8080/"
    },
    "id": "bc8c7164-7f27-4fe8-aa69-0c514800cdfd",
    "outputId": "f63bb75a-d319-49ac-8c27-ea08f911351f"
   },
   "outputs": [
    {
     "name": "stdout",
     "output_type": "stream",
     "text": [
      "Cargando pesos de modelo BERT pre-entrenado...\n",
      "\n"
     ]
    },
    {
     "name": "stderr",
     "output_type": "stream",
     "text": [
      "Some weights of BertForSequenceClassification were not initialized from the model checkpoint at mrm8488/bert-spanish-cased-finetuned-ner and are newly initialized because the shapes did not match:\n",
      "- classifier.weight: found shape torch.Size([9, 768]) in the checkpoint and torch.Size([4, 768]) in the model instantiated\n",
      "- classifier.bias: found shape torch.Size([9]) in the checkpoint and torch.Size([4]) in the model instantiated\n",
      "You should probably TRAIN this model on a down-stream task to be able to use it for predictions and inference.\n"
     ]
    },
    {
     "name": "stdout",
     "output_type": "stream",
     "text": [
      "\n",
      "El modelo BERT pre-entrenado está listo.\n"
     ]
    }
   ],
   "source": [
    "# Cargar modelo pre-entrenado\n",
    "\n",
    "from transformers import BertForSequenceClassification, AdamW, BertConfig\n",
    "\n",
    "# Cargar un BertForSequenceClassification, que es un modelo de BERT pre entrenado\n",
    "# con una capa de clasificación al final.\n",
    "print('Cargando pesos de modelo BERT pre-entrenado...\\n')\n",
    "model = BertForSequenceClassification.from_pretrained(\n",
    "    BERT_MODEL, # Modelo a usar\n",
    "    num_labels=MY_DATASET_NUM_LABELS, # cant. de categorias de mi dataset\n",
    "    ignore_mismatched_sizes=True, # si el modelo pre-entrenado tiene distinta cant. de categorias que mi dataset, ignorar las categorias del pre-entrenado, total las vamos a cambiar.\n",
    "    output_attentions = False, # El modelo debe retornat attention weights?\n",
    "    output_hidden_states = False # El modelo debe retornar todos los pesos de las capas de NN?\n",
    ")\n",
    "print('\\nEl modelo BERT pre-entrenado está listo.')"
   ]
  },
  {
   "cell_type": "markdown",
   "id": "841e4ea3-8e7e-44a9-bc60-e7268659560c",
   "metadata": {
    "id": "841e4ea3-8e7e-44a9-bc60-e7268659560c"
   },
   "source": [
    "# Setup del codigo para el fine tunning"
   ]
  },
  {
   "cell_type": "code",
   "execution_count": 14,
   "id": "f8045409-20fd-48f3-9748-71ced716134d",
   "metadata": {
    "colab": {
     "base_uri": "https://localhost:8080/"
    },
    "id": "f8045409-20fd-48f3-9748-71ced716134d",
    "outputId": "dee97d9a-e49e-425e-d330-564ba9e4d122"
   },
   "outputs": [
    {
     "name": "stdout",
     "output_type": "stream",
     "text": [
      "Tamaño dataset de entrenamiento: 1451 muestras\n",
      "Tamaño dataset de validacion: 623 muestras\n"
     ]
    },
    {
     "name": "stderr",
     "output_type": "stream",
     "text": [
      "/usr/local/lib/python3.10/dist-packages/transformers/optimization.py:411: FutureWarning: This implementation of AdamW is deprecated and will be removed in a future version. Use the PyTorch implementation torch.optim.AdamW instead, or set `no_deprecation_warning=True` to disable this warning\n",
      "  warnings.warn(\n"
     ]
    }
   ],
   "source": [
    "#  setup para entrenar\n",
    "\n",
    "from torch.utils.data import TensorDataset, random_split\n",
    "# Combinar todos los ejemplos de entrenamiento en un TensorDataset.\n",
    "dataset = TensorDataset(input_ids, attention_masks, labels)\n",
    "\n",
    "# Calcular la cant. de ejmplos en train y test\n",
    "train_size = int(TRAIN_FOLD_SIZE)\n",
    "val_size = len(dataset) - train_size\n",
    "\n",
    "# Dividir el dataset seleccionado ejemplos al azar.\n",
    "train_dataset, val_dataset = random_split(dataset, [train_size, val_size])\n",
    "\n",
    "print(f'Tamaño dataset de entrenamiento: {train_size} muestras')\n",
    "print(f'Tamaño dataset de validacion: {val_size} muestras')\n",
    "\n",
    "from torch.utils.data import DataLoader, RandomSampler, SequentialSampler\n",
    "\n",
    "# El DataLoader necesita conocer el  batch size para entrenar, asi que aquí\n",
    "# lo definimos. Para hacer fine-tuning de BERT, los autores recomienzan un\n",
    "# batch size de 16 o 32.\n",
    "batch_size = 16\n",
    "\n",
    "# Crear los DataLoaders para los dataset de entrenamiento y validacion.\n",
    "# Usaremos ejemplos de entrenamiento ordenados al azar\n",
    "train_dataloader = DataLoader(\n",
    "            train_dataset,  # The training samples.\n",
    "            sampler = RandomSampler(train_dataset), # Select batches randomly\n",
    "            batch_size = batch_size # Trains with this batch size.\n",
    "        )\n",
    "\n",
    "# Para validación el orde no importa, asi que lo hacemo secuencialmente\n",
    "validation_dataloader = DataLoader(\n",
    "            val_dataset, # The validation samples.\n",
    "            sampler = SequentialSampler(val_dataset), # Pull out batches sequentially.\n",
    "            batch_size = batch_size # Evaluate with this batch size.\n",
    "        )\n",
    "\n",
    "from transformers import AdamW, BertConfig\n",
    "\n",
    "#if FINETUNE_ONLY_CLASSIFICATION_LAYER:\n",
    "  # BERT is made of 3 modules: bert, dropout, and classifier\n",
    "  # here we freeze the weights of all layers but the classifier module\n",
    "#  for name, param in model.named_parameters():\n",
    "#    if 'classifier' not in name: # classifier module\n",
    "#      param.requires_grad = False\n",
    "\n",
    "# Tell pytorch to run this model on the GPU if possible\n",
    "if is_gpu:\n",
    "    model.cuda()\n",
    "\n",
    "# optimizer and learning rate\n",
    "# Note: AdamW is a class from the huggingface library (as opposed to pytorch)\n",
    "# I believe the 'W' stands for 'Weight Decay fix\"\n",
    "optimizer = AdamW(model.parameters(),\n",
    "                  lr = 2e-5, # args.learning_rate - default is 5e-5, our notebook had 2e-5\n",
    "                  eps = 1e-8 # args.adam_epsilon  - default is 1e-8.\n",
    "                )\n",
    "\n",
    "from transformers import get_linear_schedule_with_warmup\n",
    "\n",
    "# Total number of training steps is [number of batches] x [number of epochs].\n",
    "# (Note that this is not the same as the number of training samples).\n",
    "total_steps = len(train_dataloader) * EPOCHS\n",
    "\n",
    "# Create the learning rate scheduler.\n",
    "scheduler = get_linear_schedule_with_warmup(optimizer,\n",
    "                                            num_warmup_steps = 0, # Default value in run_glue.py\n",
    "                                            num_training_steps = total_steps)"
   ]
  },
  {
   "cell_type": "markdown",
   "id": "66612de2-ec20-4db8-9a9c-2e96eaf204d1",
   "metadata": {},
   "source": [
    "Acá definimos el loop de entrenamiento, dentro del loop luego de calcular las métricas de validación guarda el modelo que tiene la menor loss de validation, esto debido a que si pasan muchos epochs y el modelo empieza a overfittear, al momento de cortar el entrenamiento quedara guardado el modelo del último epoch, que puede tener una loss en validation mayor y parametros más overfitteados a la base de train."
   ]
  },
  {
   "cell_type": "code",
   "execution_count": 15,
   "id": "1d7a7cee-48d9-4c59-a8a4-45b6e12da5ac",
   "metadata": {
    "colab": {
     "base_uri": "https://localhost:8080/",
     "height": 478
    },
    "id": "1d7a7cee-48d9-4c59-a8a4-45b6e12da5ac",
    "outputId": "48c51c1e-6b2c-4cec-fa1b-5d61aac7c0e4"
   },
   "outputs": [
    {
     "name": "stdout",
     "output_type": "stream",
     "text": [
      "\n",
      "======== Epoch 1 / 16 ========\n",
      "Training...\n"
     ]
    },
    {
     "ename": "OutOfMemoryError",
     "evalue": "ignored",
     "output_type": "error",
     "traceback": [
      "\u001b[0;31m---------------------------------------------------------------------------\u001b[0m",
      "\u001b[0;31mOutOfMemoryError\u001b[0m                          Traceback (most recent call last)",
      "\u001b[0;32m<ipython-input-15-c31ba741f9ec>\u001b[0m in \u001b[0;36m<cell line: 46>\u001b[0;34m()\u001b[0m\n\u001b[1;32m    106\u001b[0m         \u001b[0;31m# outputs prior to activation.\u001b[0m\u001b[0;34m\u001b[0m\u001b[0;34m\u001b[0m\u001b[0m\n\u001b[1;32m    107\u001b[0m         \u001b[0;31m#(loss_tensor, logits)\u001b[0m\u001b[0;34m\u001b[0m\u001b[0;34m\u001b[0m\u001b[0m\n\u001b[0;32m--> 108\u001b[0;31m         trainstep_output  = model(b_input_ids,\n\u001b[0m\u001b[1;32m    109\u001b[0m                              \u001b[0mtoken_type_ids\u001b[0m\u001b[0;34m=\u001b[0m\u001b[0;32mNone\u001b[0m\u001b[0;34m,\u001b[0m\u001b[0;34m\u001b[0m\u001b[0;34m\u001b[0m\u001b[0m\n\u001b[1;32m    110\u001b[0m                              \u001b[0mattention_mask\u001b[0m\u001b[0;34m=\u001b[0m\u001b[0mb_input_mask\u001b[0m\u001b[0;34m,\u001b[0m\u001b[0;34m\u001b[0m\u001b[0;34m\u001b[0m\u001b[0m\n",
      "\u001b[0;32m/usr/local/lib/python3.10/dist-packages/torch/nn/modules/module.py\u001b[0m in \u001b[0;36m_call_impl\u001b[0;34m(self, *args, **kwargs)\u001b[0m\n\u001b[1;32m   1499\u001b[0m                 \u001b[0;32mor\u001b[0m \u001b[0m_global_backward_pre_hooks\u001b[0m \u001b[0;32mor\u001b[0m \u001b[0m_global_backward_hooks\u001b[0m\u001b[0;34m\u001b[0m\u001b[0;34m\u001b[0m\u001b[0m\n\u001b[1;32m   1500\u001b[0m                 or _global_forward_hooks or _global_forward_pre_hooks):\n\u001b[0;32m-> 1501\u001b[0;31m             \u001b[0;32mreturn\u001b[0m \u001b[0mforward_call\u001b[0m\u001b[0;34m(\u001b[0m\u001b[0;34m*\u001b[0m\u001b[0margs\u001b[0m\u001b[0;34m,\u001b[0m \u001b[0;34m**\u001b[0m\u001b[0mkwargs\u001b[0m\u001b[0;34m)\u001b[0m\u001b[0;34m\u001b[0m\u001b[0;34m\u001b[0m\u001b[0m\n\u001b[0m\u001b[1;32m   1502\u001b[0m         \u001b[0;31m# Do not call functions when jit is used\u001b[0m\u001b[0;34m\u001b[0m\u001b[0;34m\u001b[0m\u001b[0m\n\u001b[1;32m   1503\u001b[0m         \u001b[0mfull_backward_hooks\u001b[0m\u001b[0;34m,\u001b[0m \u001b[0mnon_full_backward_hooks\u001b[0m \u001b[0;34m=\u001b[0m \u001b[0;34m[\u001b[0m\u001b[0;34m]\u001b[0m\u001b[0;34m,\u001b[0m \u001b[0;34m[\u001b[0m\u001b[0;34m]\u001b[0m\u001b[0;34m\u001b[0m\u001b[0;34m\u001b[0m\u001b[0m\n",
      "\u001b[0;32m/usr/local/lib/python3.10/dist-packages/transformers/models/bert/modeling_bert.py\u001b[0m in \u001b[0;36mforward\u001b[0;34m(self, input_ids, attention_mask, token_type_ids, position_ids, head_mask, inputs_embeds, labels, output_attentions, output_hidden_states, return_dict)\u001b[0m\n\u001b[1;32m   1560\u001b[0m         \u001b[0mreturn_dict\u001b[0m \u001b[0;34m=\u001b[0m \u001b[0mreturn_dict\u001b[0m \u001b[0;32mif\u001b[0m \u001b[0mreturn_dict\u001b[0m \u001b[0;32mis\u001b[0m \u001b[0;32mnot\u001b[0m \u001b[0;32mNone\u001b[0m \u001b[0;32melse\u001b[0m \u001b[0mself\u001b[0m\u001b[0;34m.\u001b[0m\u001b[0mconfig\u001b[0m\u001b[0;34m.\u001b[0m\u001b[0muse_return_dict\u001b[0m\u001b[0;34m\u001b[0m\u001b[0;34m\u001b[0m\u001b[0m\n\u001b[1;32m   1561\u001b[0m \u001b[0;34m\u001b[0m\u001b[0m\n\u001b[0;32m-> 1562\u001b[0;31m         outputs = self.bert(\n\u001b[0m\u001b[1;32m   1563\u001b[0m             \u001b[0minput_ids\u001b[0m\u001b[0;34m,\u001b[0m\u001b[0;34m\u001b[0m\u001b[0;34m\u001b[0m\u001b[0m\n\u001b[1;32m   1564\u001b[0m             \u001b[0mattention_mask\u001b[0m\u001b[0;34m=\u001b[0m\u001b[0mattention_mask\u001b[0m\u001b[0;34m,\u001b[0m\u001b[0;34m\u001b[0m\u001b[0;34m\u001b[0m\u001b[0m\n",
      "\u001b[0;32m/usr/local/lib/python3.10/dist-packages/torch/nn/modules/module.py\u001b[0m in \u001b[0;36m_call_impl\u001b[0;34m(self, *args, **kwargs)\u001b[0m\n\u001b[1;32m   1499\u001b[0m                 \u001b[0;32mor\u001b[0m \u001b[0m_global_backward_pre_hooks\u001b[0m \u001b[0;32mor\u001b[0m \u001b[0m_global_backward_hooks\u001b[0m\u001b[0;34m\u001b[0m\u001b[0;34m\u001b[0m\u001b[0m\n\u001b[1;32m   1500\u001b[0m                 or _global_forward_hooks or _global_forward_pre_hooks):\n\u001b[0;32m-> 1501\u001b[0;31m             \u001b[0;32mreturn\u001b[0m \u001b[0mforward_call\u001b[0m\u001b[0;34m(\u001b[0m\u001b[0;34m*\u001b[0m\u001b[0margs\u001b[0m\u001b[0;34m,\u001b[0m \u001b[0;34m**\u001b[0m\u001b[0mkwargs\u001b[0m\u001b[0;34m)\u001b[0m\u001b[0;34m\u001b[0m\u001b[0;34m\u001b[0m\u001b[0m\n\u001b[0m\u001b[1;32m   1502\u001b[0m         \u001b[0;31m# Do not call functions when jit is used\u001b[0m\u001b[0;34m\u001b[0m\u001b[0;34m\u001b[0m\u001b[0m\n\u001b[1;32m   1503\u001b[0m         \u001b[0mfull_backward_hooks\u001b[0m\u001b[0;34m,\u001b[0m \u001b[0mnon_full_backward_hooks\u001b[0m \u001b[0;34m=\u001b[0m \u001b[0;34m[\u001b[0m\u001b[0;34m]\u001b[0m\u001b[0;34m,\u001b[0m \u001b[0;34m[\u001b[0m\u001b[0;34m]\u001b[0m\u001b[0;34m\u001b[0m\u001b[0;34m\u001b[0m\u001b[0m\n",
      "\u001b[0;32m/usr/local/lib/python3.10/dist-packages/transformers/models/bert/modeling_bert.py\u001b[0m in \u001b[0;36mforward\u001b[0;34m(self, input_ids, attention_mask, token_type_ids, position_ids, head_mask, inputs_embeds, encoder_hidden_states, encoder_attention_mask, past_key_values, use_cache, output_attentions, output_hidden_states, return_dict)\u001b[0m\n\u001b[1;32m   1020\u001b[0m             \u001b[0mpast_key_values_length\u001b[0m\u001b[0;34m=\u001b[0m\u001b[0mpast_key_values_length\u001b[0m\u001b[0;34m,\u001b[0m\u001b[0;34m\u001b[0m\u001b[0;34m\u001b[0m\u001b[0m\n\u001b[1;32m   1021\u001b[0m         )\n\u001b[0;32m-> 1022\u001b[0;31m         encoder_outputs = self.encoder(\n\u001b[0m\u001b[1;32m   1023\u001b[0m             \u001b[0membedding_output\u001b[0m\u001b[0;34m,\u001b[0m\u001b[0;34m\u001b[0m\u001b[0;34m\u001b[0m\u001b[0m\n\u001b[1;32m   1024\u001b[0m             \u001b[0mattention_mask\u001b[0m\u001b[0;34m=\u001b[0m\u001b[0mextended_attention_mask\u001b[0m\u001b[0;34m,\u001b[0m\u001b[0;34m\u001b[0m\u001b[0;34m\u001b[0m\u001b[0m\n",
      "\u001b[0;32m/usr/local/lib/python3.10/dist-packages/torch/nn/modules/module.py\u001b[0m in \u001b[0;36m_call_impl\u001b[0;34m(self, *args, **kwargs)\u001b[0m\n\u001b[1;32m   1499\u001b[0m                 \u001b[0;32mor\u001b[0m \u001b[0m_global_backward_pre_hooks\u001b[0m \u001b[0;32mor\u001b[0m \u001b[0m_global_backward_hooks\u001b[0m\u001b[0;34m\u001b[0m\u001b[0;34m\u001b[0m\u001b[0m\n\u001b[1;32m   1500\u001b[0m                 or _global_forward_hooks or _global_forward_pre_hooks):\n\u001b[0;32m-> 1501\u001b[0;31m             \u001b[0;32mreturn\u001b[0m \u001b[0mforward_call\u001b[0m\u001b[0;34m(\u001b[0m\u001b[0;34m*\u001b[0m\u001b[0margs\u001b[0m\u001b[0;34m,\u001b[0m \u001b[0;34m**\u001b[0m\u001b[0mkwargs\u001b[0m\u001b[0;34m)\u001b[0m\u001b[0;34m\u001b[0m\u001b[0;34m\u001b[0m\u001b[0m\n\u001b[0m\u001b[1;32m   1502\u001b[0m         \u001b[0;31m# Do not call functions when jit is used\u001b[0m\u001b[0;34m\u001b[0m\u001b[0;34m\u001b[0m\u001b[0m\n\u001b[1;32m   1503\u001b[0m         \u001b[0mfull_backward_hooks\u001b[0m\u001b[0;34m,\u001b[0m \u001b[0mnon_full_backward_hooks\u001b[0m \u001b[0;34m=\u001b[0m \u001b[0;34m[\u001b[0m\u001b[0;34m]\u001b[0m\u001b[0;34m,\u001b[0m \u001b[0;34m[\u001b[0m\u001b[0;34m]\u001b[0m\u001b[0;34m\u001b[0m\u001b[0;34m\u001b[0m\u001b[0m\n",
      "\u001b[0;32m/usr/local/lib/python3.10/dist-packages/transformers/models/bert/modeling_bert.py\u001b[0m in \u001b[0;36mforward\u001b[0;34m(self, hidden_states, attention_mask, head_mask, encoder_hidden_states, encoder_attention_mask, past_key_values, use_cache, output_attentions, output_hidden_states, return_dict)\u001b[0m\n\u001b[1;32m    610\u001b[0m                 )\n\u001b[1;32m    611\u001b[0m             \u001b[0;32melse\u001b[0m\u001b[0;34m:\u001b[0m\u001b[0;34m\u001b[0m\u001b[0;34m\u001b[0m\u001b[0m\n\u001b[0;32m--> 612\u001b[0;31m                 layer_outputs = layer_module(\n\u001b[0m\u001b[1;32m    613\u001b[0m                     \u001b[0mhidden_states\u001b[0m\u001b[0;34m,\u001b[0m\u001b[0;34m\u001b[0m\u001b[0;34m\u001b[0m\u001b[0m\n\u001b[1;32m    614\u001b[0m                     \u001b[0mattention_mask\u001b[0m\u001b[0;34m,\u001b[0m\u001b[0;34m\u001b[0m\u001b[0;34m\u001b[0m\u001b[0m\n",
      "\u001b[0;32m/usr/local/lib/python3.10/dist-packages/torch/nn/modules/module.py\u001b[0m in \u001b[0;36m_call_impl\u001b[0;34m(self, *args, **kwargs)\u001b[0m\n\u001b[1;32m   1499\u001b[0m                 \u001b[0;32mor\u001b[0m \u001b[0m_global_backward_pre_hooks\u001b[0m \u001b[0;32mor\u001b[0m \u001b[0m_global_backward_hooks\u001b[0m\u001b[0;34m\u001b[0m\u001b[0;34m\u001b[0m\u001b[0m\n\u001b[1;32m   1500\u001b[0m                 or _global_forward_hooks or _global_forward_pre_hooks):\n\u001b[0;32m-> 1501\u001b[0;31m             \u001b[0;32mreturn\u001b[0m \u001b[0mforward_call\u001b[0m\u001b[0;34m(\u001b[0m\u001b[0;34m*\u001b[0m\u001b[0margs\u001b[0m\u001b[0;34m,\u001b[0m \u001b[0;34m**\u001b[0m\u001b[0mkwargs\u001b[0m\u001b[0;34m)\u001b[0m\u001b[0;34m\u001b[0m\u001b[0;34m\u001b[0m\u001b[0m\n\u001b[0m\u001b[1;32m   1502\u001b[0m         \u001b[0;31m# Do not call functions when jit is used\u001b[0m\u001b[0;34m\u001b[0m\u001b[0;34m\u001b[0m\u001b[0m\n\u001b[1;32m   1503\u001b[0m         \u001b[0mfull_backward_hooks\u001b[0m\u001b[0;34m,\u001b[0m \u001b[0mnon_full_backward_hooks\u001b[0m \u001b[0;34m=\u001b[0m \u001b[0;34m[\u001b[0m\u001b[0;34m]\u001b[0m\u001b[0;34m,\u001b[0m \u001b[0;34m[\u001b[0m\u001b[0;34m]\u001b[0m\u001b[0;34m\u001b[0m\u001b[0;34m\u001b[0m\u001b[0m\n",
      "\u001b[0;32m/usr/local/lib/python3.10/dist-packages/transformers/models/bert/modeling_bert.py\u001b[0m in \u001b[0;36mforward\u001b[0;34m(self, hidden_states, attention_mask, head_mask, encoder_hidden_states, encoder_attention_mask, past_key_value, output_attentions)\u001b[0m\n\u001b[1;32m    495\u001b[0m         \u001b[0;31m# decoder uni-directional self-attention cached key/values tuple is at positions 1,2\u001b[0m\u001b[0;34m\u001b[0m\u001b[0;34m\u001b[0m\u001b[0m\n\u001b[1;32m    496\u001b[0m         \u001b[0mself_attn_past_key_value\u001b[0m \u001b[0;34m=\u001b[0m \u001b[0mpast_key_value\u001b[0m\u001b[0;34m[\u001b[0m\u001b[0;34m:\u001b[0m\u001b[0;36m2\u001b[0m\u001b[0;34m]\u001b[0m \u001b[0;32mif\u001b[0m \u001b[0mpast_key_value\u001b[0m \u001b[0;32mis\u001b[0m \u001b[0;32mnot\u001b[0m \u001b[0;32mNone\u001b[0m \u001b[0;32melse\u001b[0m \u001b[0;32mNone\u001b[0m\u001b[0;34m\u001b[0m\u001b[0;34m\u001b[0m\u001b[0m\n\u001b[0;32m--> 497\u001b[0;31m         self_attention_outputs = self.attention(\n\u001b[0m\u001b[1;32m    498\u001b[0m             \u001b[0mhidden_states\u001b[0m\u001b[0;34m,\u001b[0m\u001b[0;34m\u001b[0m\u001b[0;34m\u001b[0m\u001b[0m\n\u001b[1;32m    499\u001b[0m             \u001b[0mattention_mask\u001b[0m\u001b[0;34m,\u001b[0m\u001b[0;34m\u001b[0m\u001b[0;34m\u001b[0m\u001b[0m\n",
      "\u001b[0;32m/usr/local/lib/python3.10/dist-packages/torch/nn/modules/module.py\u001b[0m in \u001b[0;36m_call_impl\u001b[0;34m(self, *args, **kwargs)\u001b[0m\n\u001b[1;32m   1499\u001b[0m                 \u001b[0;32mor\u001b[0m \u001b[0m_global_backward_pre_hooks\u001b[0m \u001b[0;32mor\u001b[0m \u001b[0m_global_backward_hooks\u001b[0m\u001b[0;34m\u001b[0m\u001b[0;34m\u001b[0m\u001b[0m\n\u001b[1;32m   1500\u001b[0m                 or _global_forward_hooks or _global_forward_pre_hooks):\n\u001b[0;32m-> 1501\u001b[0;31m             \u001b[0;32mreturn\u001b[0m \u001b[0mforward_call\u001b[0m\u001b[0;34m(\u001b[0m\u001b[0;34m*\u001b[0m\u001b[0margs\u001b[0m\u001b[0;34m,\u001b[0m \u001b[0;34m**\u001b[0m\u001b[0mkwargs\u001b[0m\u001b[0;34m)\u001b[0m\u001b[0;34m\u001b[0m\u001b[0;34m\u001b[0m\u001b[0m\n\u001b[0m\u001b[1;32m   1502\u001b[0m         \u001b[0;31m# Do not call functions when jit is used\u001b[0m\u001b[0;34m\u001b[0m\u001b[0;34m\u001b[0m\u001b[0m\n\u001b[1;32m   1503\u001b[0m         \u001b[0mfull_backward_hooks\u001b[0m\u001b[0;34m,\u001b[0m \u001b[0mnon_full_backward_hooks\u001b[0m \u001b[0;34m=\u001b[0m \u001b[0;34m[\u001b[0m\u001b[0;34m]\u001b[0m\u001b[0;34m,\u001b[0m \u001b[0;34m[\u001b[0m\u001b[0;34m]\u001b[0m\u001b[0;34m\u001b[0m\u001b[0;34m\u001b[0m\u001b[0m\n",
      "\u001b[0;32m/usr/local/lib/python3.10/dist-packages/transformers/models/bert/modeling_bert.py\u001b[0m in \u001b[0;36mforward\u001b[0;34m(self, hidden_states, attention_mask, head_mask, encoder_hidden_states, encoder_attention_mask, past_key_value, output_attentions)\u001b[0m\n\u001b[1;32m    425\u001b[0m         \u001b[0moutput_attentions\u001b[0m\u001b[0;34m:\u001b[0m \u001b[0mOptional\u001b[0m\u001b[0;34m[\u001b[0m\u001b[0mbool\u001b[0m\u001b[0;34m]\u001b[0m \u001b[0;34m=\u001b[0m \u001b[0;32mFalse\u001b[0m\u001b[0;34m,\u001b[0m\u001b[0;34m\u001b[0m\u001b[0;34m\u001b[0m\u001b[0m\n\u001b[1;32m    426\u001b[0m     ) -> Tuple[torch.Tensor]:\n\u001b[0;32m--> 427\u001b[0;31m         self_outputs = self.self(\n\u001b[0m\u001b[1;32m    428\u001b[0m             \u001b[0mhidden_states\u001b[0m\u001b[0;34m,\u001b[0m\u001b[0;34m\u001b[0m\u001b[0;34m\u001b[0m\u001b[0m\n\u001b[1;32m    429\u001b[0m             \u001b[0mattention_mask\u001b[0m\u001b[0;34m,\u001b[0m\u001b[0;34m\u001b[0m\u001b[0;34m\u001b[0m\u001b[0m\n",
      "\u001b[0;32m/usr/local/lib/python3.10/dist-packages/torch/nn/modules/module.py\u001b[0m in \u001b[0;36m_call_impl\u001b[0;34m(self, *args, **kwargs)\u001b[0m\n\u001b[1;32m   1499\u001b[0m                 \u001b[0;32mor\u001b[0m \u001b[0m_global_backward_pre_hooks\u001b[0m \u001b[0;32mor\u001b[0m \u001b[0m_global_backward_hooks\u001b[0m\u001b[0;34m\u001b[0m\u001b[0;34m\u001b[0m\u001b[0m\n\u001b[1;32m   1500\u001b[0m                 or _global_forward_hooks or _global_forward_pre_hooks):\n\u001b[0;32m-> 1501\u001b[0;31m             \u001b[0;32mreturn\u001b[0m \u001b[0mforward_call\u001b[0m\u001b[0;34m(\u001b[0m\u001b[0;34m*\u001b[0m\u001b[0margs\u001b[0m\u001b[0;34m,\u001b[0m \u001b[0;34m**\u001b[0m\u001b[0mkwargs\u001b[0m\u001b[0;34m)\u001b[0m\u001b[0;34m\u001b[0m\u001b[0;34m\u001b[0m\u001b[0m\n\u001b[0m\u001b[1;32m   1502\u001b[0m         \u001b[0;31m# Do not call functions when jit is used\u001b[0m\u001b[0;34m\u001b[0m\u001b[0;34m\u001b[0m\u001b[0m\n\u001b[1;32m   1503\u001b[0m         \u001b[0mfull_backward_hooks\u001b[0m\u001b[0;34m,\u001b[0m \u001b[0mnon_full_backward_hooks\u001b[0m \u001b[0;34m=\u001b[0m \u001b[0;34m[\u001b[0m\u001b[0;34m]\u001b[0m\u001b[0;34m,\u001b[0m \u001b[0;34m[\u001b[0m\u001b[0;34m]\u001b[0m\u001b[0;34m\u001b[0m\u001b[0;34m\u001b[0m\u001b[0m\n",
      "\u001b[0;32m/usr/local/lib/python3.10/dist-packages/transformers/models/bert/modeling_bert.py\u001b[0m in \u001b[0;36mforward\u001b[0;34m(self, hidden_states, attention_mask, head_mask, encoder_hidden_states, encoder_attention_mask, past_key_value, output_attentions)\u001b[0m\n\u001b[1;32m    323\u001b[0m \u001b[0;34m\u001b[0m\u001b[0m\n\u001b[1;32m    324\u001b[0m         \u001b[0;31m# Take the dot product between \"query\" and \"key\" to get the raw attention scores.\u001b[0m\u001b[0;34m\u001b[0m\u001b[0;34m\u001b[0m\u001b[0m\n\u001b[0;32m--> 325\u001b[0;31m         \u001b[0mattention_scores\u001b[0m \u001b[0;34m=\u001b[0m \u001b[0mtorch\u001b[0m\u001b[0;34m.\u001b[0m\u001b[0mmatmul\u001b[0m\u001b[0;34m(\u001b[0m\u001b[0mquery_layer\u001b[0m\u001b[0;34m,\u001b[0m \u001b[0mkey_layer\u001b[0m\u001b[0;34m.\u001b[0m\u001b[0mtranspose\u001b[0m\u001b[0;34m(\u001b[0m\u001b[0;34m-\u001b[0m\u001b[0;36m1\u001b[0m\u001b[0;34m,\u001b[0m \u001b[0;34m-\u001b[0m\u001b[0;36m2\u001b[0m\u001b[0;34m)\u001b[0m\u001b[0;34m)\u001b[0m\u001b[0;34m\u001b[0m\u001b[0;34m\u001b[0m\u001b[0m\n\u001b[0m\u001b[1;32m    326\u001b[0m \u001b[0;34m\u001b[0m\u001b[0m\n\u001b[1;32m    327\u001b[0m         \u001b[0;32mif\u001b[0m \u001b[0mself\u001b[0m\u001b[0;34m.\u001b[0m\u001b[0mposition_embedding_type\u001b[0m \u001b[0;34m==\u001b[0m \u001b[0;34m\"relative_key\"\u001b[0m \u001b[0;32mor\u001b[0m \u001b[0mself\u001b[0m\u001b[0;34m.\u001b[0m\u001b[0mposition_embedding_type\u001b[0m \u001b[0;34m==\u001b[0m \u001b[0;34m\"relative_key_query\"\u001b[0m\u001b[0;34m:\u001b[0m\u001b[0;34m\u001b[0m\u001b[0;34m\u001b[0m\u001b[0m\n",
      "\u001b[0;31mOutOfMemoryError\u001b[0m: CUDA out of memory. Tried to allocate 48.00 MiB (GPU 0; 14.75 GiB total capacity; 13.60 GiB already allocated; 42.81 MiB free; 13.68 GiB reserved in total by PyTorch) If reserved memory is >> allocated memory try setting max_split_size_mb to avoid fragmentation.  See documentation for Memory Management and PYTORCH_CUDA_ALLOC_CONF"
     ]
    }
   ],
   "source": [
    "# loop de entrenamiento\n",
    "import numpy as np\n",
    "\n",
    "# para salvar el modelo de mejor val loss en cada epoch:\n",
    "best_val_loss = float('inf')\n",
    "best_epoch = -1\n",
    "\n",
    "\n",
    "def flat_accuracy(preds, labels):\n",
    "    \"\"\"\n",
    "    Esta funcion calcula accuracy de predicción de labels\n",
    "    \"\"\"\n",
    "    pred_flat = np.argmax(preds, axis=1).flatten()\n",
    "    labels_flat = labels.flatten()\n",
    "    return np.sum(pred_flat == labels_flat) / len(labels_flat)\n",
    "\n",
    "import time\n",
    "import datetime\n",
    "\n",
    "def format_time(elapsed):\n",
    "    \"\"\"\n",
    "    Recibe un timestamp en segundos y retorna un string hh:mm:ss\n",
    "    \"\"\"\n",
    "    # Redonda a segundos\n",
    "    elapsed_rounded = int(round((elapsed)))\n",
    "    # Formatear como hh:mm:ss\n",
    "    return str(datetime.timedelta(seconds=elapsed_rounded))\n",
    "\n",
    "import random\n",
    "import numpy as np\n",
    "\n",
    "# This training code is based on the `run_glue.py` script here:\n",
    "# https://github.com/huggingface/transformers/blob/5bfcd0485ece086ebcbed2d008813037968a9e58/examples/run_glue.py#L128\n",
    "\n",
    "# Set the seed value all over the place to make this reproducible.\n",
    "seed_val = 42\n",
    "\n",
    "random.seed(seed_val)\n",
    "np.random.seed(seed_val)\n",
    "torch.manual_seed(seed_val)\n",
    "torch.cuda.manual_seed_all(seed_val)\n",
    "\n",
    "# We'll store a number of quantities such as training and validation loss,\n",
    "# validation accuracy, and timings.\n",
    "training_stats = []\n",
    "\n",
    "# Measure the total training time for the whole run.\n",
    "total_t0 = time.time()\n",
    "\n",
    "# Para cada epoch...\n",
    "for epoch_i in range(0, EPOCHS):\n",
    "\n",
    "    # ========================================\n",
    "    #               Training\n",
    "    # ========================================\n",
    "\n",
    "    # llevar a cabo 1 pasada sobre todo el dataset de entrenamiento.\n",
    "\n",
    "    print(\"\")\n",
    "    print('======== Epoch {:} / {:} ========'.format(epoch_i + 1, EPOCHS))\n",
    "    print('Training...')\n",
    "\n",
    "    # Measure how long the training epoch takes.\n",
    "    t0 = time.time()\n",
    "\n",
    "    # Resetear la perdida (the total loss) de este epoch\n",
    "    total_train_loss = 0\n",
    "\n",
    "    # Pasar al modelo a \"training mode\". Ojo! esto setea el modo en \"training\"\n",
    "    # pero no ejecuta el  entrenamiento.\n",
    "    # `dropout` and `batchnorm` layers behave differently during training\n",
    "    # vs. test (source: https://stackoverflow.com/questions/51433378/what-does-model-train-do-in-pytorch)\n",
    "    model.train()\n",
    "\n",
    "    # Por cada batch de datos de entrenamiento...\n",
    "    for step, batch in enumerate(train_dataloader):\n",
    "\n",
    "        # Progress update every 40 batches.\n",
    "        if step % 40 == 0 and not step == 0:\n",
    "            # Calculate elapsed time in minutes.\n",
    "            elapsed = format_time(time.time() - t0)\n",
    "\n",
    "            # Report progress.\n",
    "            print('  Batch {:>5,}  of  {:>5,}.    Elapsed: {:}.'.format(step, len(train_dataloader), elapsed))\n",
    "\n",
    "        # Unpack this training batch from our dataloader.\n",
    "        #\n",
    "        # As we unpack the batch, we'll also copy each tensor to the GPU using the\n",
    "        # `to` method.\n",
    "        #\n",
    "        # `batch` contains three pytorch tensors:\n",
    "        #   [0]: input ids\n",
    "        #   [1]: attention masks\n",
    "        #   [2]: labels\n",
    "        b_input_ids = batch[0].to(device)\n",
    "        b_input_mask = batch[1].to(device)\n",
    "        b_labels = batch[2].to(device)\n",
    "\n",
    "        # Always clear any previously calculated gradients before performing a\n",
    "        # backward pass. PyTorch doesn't do this automatically because\n",
    "        # accumulating the gradients is \"convenient while training RNNs\".\n",
    "        # (source: https://stackoverflow.com/questions/48001598/why-do-we-need-to-call-zero-grad-in-pytorch)\n",
    "        model.zero_grad()\n",
    "\n",
    "        # Perform a forward pass (evaluate the model on this training batch).\n",
    "        # The documentation for this `model` function is here:\n",
    "        # https://huggingface.co/transformers/v2.2.0/model_doc/bert.html#transformers.BertForSequenceClassification\n",
    "        # It returns different numbers of parameters depending on what arguments\n",
    "        # arge given and what flags are set. For our useage here, it returns\n",
    "        # the loss (because we provided labels) and the \"logits\"--the model\n",
    "        # outputs prior to activation.\n",
    "        #(loss_tensor, logits)\n",
    "        trainstep_output  = model(b_input_ids,\n",
    "                             token_type_ids=None,\n",
    "                             attention_mask=b_input_mask,\n",
    "                             labels=b_labels)\n",
    "\n",
    "        # Accumulate the training loss over all of the batches so that we can\n",
    "        # calculate the average loss at the end. `loss` is a Tensor containing a\n",
    "        # single value; the `.item()` function just returns the Python value\n",
    "        # from the tensor.\n",
    "        total_train_loss += trainstep_output.loss.item()\n",
    "\n",
    "        # Perform a backward pass to calculate the gradients.\n",
    "        trainstep_output.loss.backward()\n",
    "\n",
    "        # Clip the norm of the gradients to 1.0.\n",
    "        # This is to help prevent the \"exploding gradients\" problem.\n",
    "        torch.nn.utils.clip_grad_norm_(model.parameters(), 1.0)\n",
    "\n",
    "        # Update parameters and take a step using the computed gradient.\n",
    "        # The optimizer dictates the \"update rule\"--how the parameters are\n",
    "        # modified based on their gradients, the learning rate, etc.\n",
    "        optimizer.step()\n",
    "\n",
    "        # Update the learning rate.\n",
    "        scheduler.step()\n",
    "\n",
    "    # Calculate the average loss over all of the batches.\n",
    "    avg_train_loss = total_train_loss / len(train_dataloader)\n",
    "    \n",
    "    \n",
    "\n",
    "    # Measure how long this epoch took.\n",
    "    training_time = format_time(time.time() - t0)\n",
    "\n",
    "    print(\"\")\n",
    "    print(\"  Average training loss: {0:.2f}\".format(avg_train_loss))\n",
    "    print(\"  Training epcoh took: {:}\".format(training_time))\n",
    "\n",
    "    # ========================================\n",
    "    #               Validation\n",
    "    # ========================================\n",
    "    # After the completion of each training epoch, measure our performance on\n",
    "    # our validation set.\n",
    "\n",
    "    print(\"\")\n",
    "    print(\"Running Validation...\")\n",
    "\n",
    "    t0 = time.time()\n",
    "\n",
    "    # Put the model in evaluation mode--the dropout layers behave differently\n",
    "    # during evaluation.\n",
    "    model.eval()\n",
    "\n",
    "    # Tracking variables\n",
    "    total_eval_accuracy = 0\n",
    "    total_eval_loss = 0\n",
    "    nb_eval_steps = 0\n",
    "\n",
    "    # Evaluate data for one epoch\n",
    "    for batch in validation_dataloader:\n",
    "\n",
    "        # Unpack this training batch from our dataloader.\n",
    "        #\n",
    "        # As we unpack the batch, we'll also copy each tensor to the GPU using\n",
    "        # the `to` method.\n",
    "        #\n",
    "        # `batch` contains three pytorch tensors:\n",
    "        #   [0]: input ids\n",
    "        #   [1]: attention masks\n",
    "        #   [2]: labels\n",
    "        b_input_ids = batch[0].to(device)\n",
    "        b_input_mask = batch[1].to(device)\n",
    "        b_labels = batch[2].to(device)\n",
    "\n",
    "        # Tell pytorch not to bother with constructing the compute graph during\n",
    "        # the forward pass, since this is only needed for backprop (training).\n",
    "        with torch.no_grad():\n",
    "\n",
    "            # Forward pass, calculate logit predictions.\n",
    "            # token_type_ids is the same as the \"segment ids\", which\n",
    "            # differentiates sentence 1 and 2 in 2-sentence tasks.\n",
    "            # The documentation for this `model` function is here:\n",
    "            # https://huggingface.co/transformers/v2.2.0/model_doc/bert.html#transformers.BertForSequenceClassification\n",
    "            # Get the \"logits\" output by the model. The \"logits\" are the output\n",
    "            # values prior to applying an activation function like the softmax.\n",
    "            trainstep_output = model(b_input_ids,\n",
    "                                   token_type_ids=None,\n",
    "                                   attention_mask=b_input_mask,\n",
    "                                   labels=b_labels)\n",
    "\n",
    "        # Accumulate the validation loss.\n",
    "        total_eval_loss += trainstep_output.loss.item()\n",
    "\n",
    "        # Move logits and labels to CPU\n",
    "        logits = trainstep_output.logits.detach().cpu().numpy()\n",
    "        label_ids = b_labels.to('cpu').numpy()\n",
    "\n",
    "        # Calculate the accuracy for this batch of test sentences, and\n",
    "        # accumulate it over all batches.\n",
    "        total_eval_accuracy += flat_accuracy(logits, label_ids)\n",
    "\n",
    "\n",
    "    # Report the final accuracy for this validation run.\n",
    "    avg_val_accuracy = total_eval_accuracy / len(validation_dataloader)\n",
    "    print(\"  Accuracy: {0:.2f}\".format(avg_val_accuracy))\n",
    "\n",
    "    # Calculate the average loss over all of the batches.\n",
    "    avg_val_loss = total_eval_loss / len(validation_dataloader)\n",
    "\n",
    "    # Measure how long the validation run took.\n",
    "    validation_time = format_time(time.time() - t0)\n",
    "\n",
    "    print(\"  Validation Loss: {0:.2f}\".format(avg_val_loss))\n",
    "    print(\"  Validation took: {:}\".format(validation_time))\n",
    "    \n",
    "        # Inside the loop after validation\n",
    "    if avg_val_loss < best_val_loss:\n",
    "        # Update the best validation loss and epoch\n",
    "        best_val_loss = avg_val_loss\n",
    "        best_epoch = epoch_i + 1\n",
    "\n",
    "        # Save the best model\n",
    "        output_dir = Path(f'./bert_fine_tuned_time_epoch_{best_epoch}/')\n",
    "        if not os.path.exists(output_dir):\n",
    "            os.makedirs(output_dir)\n",
    "\n",
    "        # Save the model, configuration, and tokenizer\n",
    "        model_to_save = model.module if hasattr(model, 'module') else model\n",
    "        model_to_save.save_pretrained(output_dir)\n",
    "        tokenizer.save_pretrained(output_dir)\n",
    "\n",
    "        # Save the label_texts\n",
    "        with open(output_dir / \"label_texts.txt\", \"wt\") as f:\n",
    "            f.write(label_texts[0])\n",
    "            for label_text in label_texts[1:]:\n",
    "                f.write('\\n')\n",
    "                f.write(label_text)\n",
    "\n",
    "        print(f\"Saved the best model at epoch {best_epoch} with validation loss: {best_val_loss:.2f}\")\n",
    "\n",
    "\n",
    "    # Record all statistics from this epoch.\n",
    "    training_stats.append(\n",
    "        {\n",
    "            'epoch': epoch_i + 1,\n",
    "            'Training Loss': avg_train_loss,\n",
    "            'Valid. Loss': avg_val_loss,\n",
    "            'Valid. Accur.': avg_val_accuracy,\n",
    "            'Training Time': training_time,\n",
    "            'Validation Time': validation_time\n",
    "        }\n",
    "    )\n",
    "\n",
    "print(\"\")\n",
    "print(\"Training complete!\")\n",
    "\n",
    "print(\"Total training took {:} (h:mm:ss)\".format(format_time(time.time()-total_t0)))"
   ]
  },
  {
   "cell_type": "markdown",
   "id": "134c56a6-9220-4630-bdec-0a9cab7caa49",
   "metadata": {},
   "source": [
    "Acá verificamos las métricas del entrenamiento por epoch"
   ]
  },
  {
   "cell_type": "code",
   "execution_count": 40,
   "id": "144901db-7a05-4f65-9dec-80d271f44fb8",
   "metadata": {
    "colab": {
     "base_uri": "https://localhost:8080/",
     "height": 551
    },
    "id": "144901db-7a05-4f65-9dec-80d271f44fb8",
    "outputId": "8b9d7f75-ebc9-4158-db2a-c3e706472300"
   },
   "outputs": [
    {
     "data": {
      "text/html": [
       "\n",
       "  <div id=\"df-9d4b5442-6f52-4341-9d1e-4c320c3b299e\" class=\"colab-df-container\">\n",
       "    <div>\n",
       "<style scoped>\n",
       "    .dataframe tbody tr th:only-of-type {\n",
       "        vertical-align: middle;\n",
       "    }\n",
       "\n",
       "    .dataframe tbody tr th {\n",
       "        vertical-align: top;\n",
       "    }\n",
       "\n",
       "    .dataframe thead th {\n",
       "        text-align: right;\n",
       "    }\n",
       "</style>\n",
       "<table border=\"1\" class=\"dataframe\">\n",
       "  <thead>\n",
       "    <tr style=\"text-align: right;\">\n",
       "      <th></th>\n",
       "      <th>epoch</th>\n",
       "      <th>Training Loss</th>\n",
       "      <th>Valid. Loss</th>\n",
       "      <th>Valid. Accur.</th>\n",
       "      <th>Training Time</th>\n",
       "      <th>Validation Time</th>\n",
       "    </tr>\n",
       "  </thead>\n",
       "  <tbody>\n",
       "    <tr>\n",
       "      <th>0</th>\n",
       "      <td>1</td>\n",
       "      <td>0.69</td>\n",
       "      <td>0.46</td>\n",
       "      <td>0.83</td>\n",
       "      <td>0:02:13</td>\n",
       "      <td>0:00:20</td>\n",
       "    </tr>\n",
       "    <tr>\n",
       "      <th>1</th>\n",
       "      <td>2</td>\n",
       "      <td>0.37</td>\n",
       "      <td>0.53</td>\n",
       "      <td>0.82</td>\n",
       "      <td>0:02:14</td>\n",
       "      <td>0:00:20</td>\n",
       "    </tr>\n",
       "    <tr>\n",
       "      <th>2</th>\n",
       "      <td>3</td>\n",
       "      <td>0.23</td>\n",
       "      <td>0.37</td>\n",
       "      <td>0.88</td>\n",
       "      <td>0:02:14</td>\n",
       "      <td>0:00:20</td>\n",
       "    </tr>\n",
       "    <tr>\n",
       "      <th>3</th>\n",
       "      <td>4</td>\n",
       "      <td>0.14</td>\n",
       "      <td>0.53</td>\n",
       "      <td>0.85</td>\n",
       "      <td>0:02:14</td>\n",
       "      <td>0:00:20</td>\n",
       "    </tr>\n",
       "    <tr>\n",
       "      <th>4</th>\n",
       "      <td>5</td>\n",
       "      <td>0.09</td>\n",
       "      <td>0.57</td>\n",
       "      <td>0.86</td>\n",
       "      <td>0:02:14</td>\n",
       "      <td>0:00:20</td>\n",
       "    </tr>\n",
       "    <tr>\n",
       "      <th>5</th>\n",
       "      <td>6</td>\n",
       "      <td>0.05</td>\n",
       "      <td>0.51</td>\n",
       "      <td>0.87</td>\n",
       "      <td>0:02:14</td>\n",
       "      <td>0:00:20</td>\n",
       "    </tr>\n",
       "    <tr>\n",
       "      <th>6</th>\n",
       "      <td>7</td>\n",
       "      <td>0.03</td>\n",
       "      <td>0.54</td>\n",
       "      <td>0.87</td>\n",
       "      <td>0:02:14</td>\n",
       "      <td>0:00:20</td>\n",
       "    </tr>\n",
       "    <tr>\n",
       "      <th>7</th>\n",
       "      <td>8</td>\n",
       "      <td>0.02</td>\n",
       "      <td>0.53</td>\n",
       "      <td>0.87</td>\n",
       "      <td>0:02:14</td>\n",
       "      <td>0:00:20</td>\n",
       "    </tr>\n",
       "    <tr>\n",
       "      <th>8</th>\n",
       "      <td>9</td>\n",
       "      <td>0.02</td>\n",
       "      <td>0.53</td>\n",
       "      <td>0.87</td>\n",
       "      <td>0:02:14</td>\n",
       "      <td>0:00:20</td>\n",
       "    </tr>\n",
       "    <tr>\n",
       "      <th>9</th>\n",
       "      <td>10</td>\n",
       "      <td>0.02</td>\n",
       "      <td>0.53</td>\n",
       "      <td>0.87</td>\n",
       "      <td>0:02:14</td>\n",
       "      <td>0:00:20</td>\n",
       "    </tr>\n",
       "    <tr>\n",
       "      <th>10</th>\n",
       "      <td>11</td>\n",
       "      <td>0.02</td>\n",
       "      <td>0.53</td>\n",
       "      <td>0.87</td>\n",
       "      <td>0:02:14</td>\n",
       "      <td>0:00:20</td>\n",
       "    </tr>\n",
       "    <tr>\n",
       "      <th>11</th>\n",
       "      <td>12</td>\n",
       "      <td>0.02</td>\n",
       "      <td>0.53</td>\n",
       "      <td>0.87</td>\n",
       "      <td>0:02:15</td>\n",
       "      <td>0:00:20</td>\n",
       "    </tr>\n",
       "    <tr>\n",
       "      <th>12</th>\n",
       "      <td>13</td>\n",
       "      <td>0.02</td>\n",
       "      <td>0.53</td>\n",
       "      <td>0.87</td>\n",
       "      <td>0:02:14</td>\n",
       "      <td>0:00:20</td>\n",
       "    </tr>\n",
       "    <tr>\n",
       "      <th>13</th>\n",
       "      <td>14</td>\n",
       "      <td>0.02</td>\n",
       "      <td>0.53</td>\n",
       "      <td>0.87</td>\n",
       "      <td>0:02:14</td>\n",
       "      <td>0:00:20</td>\n",
       "    </tr>\n",
       "    <tr>\n",
       "      <th>14</th>\n",
       "      <td>15</td>\n",
       "      <td>0.02</td>\n",
       "      <td>0.53</td>\n",
       "      <td>0.87</td>\n",
       "      <td>0:02:14</td>\n",
       "      <td>0:00:20</td>\n",
       "    </tr>\n",
       "    <tr>\n",
       "      <th>15</th>\n",
       "      <td>16</td>\n",
       "      <td>0.02</td>\n",
       "      <td>0.53</td>\n",
       "      <td>0.87</td>\n",
       "      <td>0:02:14</td>\n",
       "      <td>0:00:20</td>\n",
       "    </tr>\n",
       "  </tbody>\n",
       "</table>\n",
       "</div>\n",
       "    <div class=\"colab-df-buttons\">\n",
       "\n",
       "  <div class=\"colab-df-container\">\n",
       "    <button class=\"colab-df-convert\" onclick=\"convertToInteractive('df-9d4b5442-6f52-4341-9d1e-4c320c3b299e')\"\n",
       "            title=\"Convert this dataframe to an interactive table.\"\n",
       "            style=\"display:none;\">\n",
       "\n",
       "  <svg xmlns=\"http://www.w3.org/2000/svg\" height=\"24px\" viewBox=\"0 -960 960 960\">\n",
       "    <path d=\"M120-120v-720h720v720H120Zm60-500h600v-160H180v160Zm220 220h160v-160H400v160Zm0 220h160v-160H400v160ZM180-400h160v-160H180v160Zm440 0h160v-160H620v160ZM180-180h160v-160H180v160Zm440 0h160v-160H620v160Z\"/>\n",
       "  </svg>\n",
       "    </button>\n",
       "\n",
       "  <style>\n",
       "    .colab-df-container {\n",
       "      display:flex;\n",
       "      gap: 12px;\n",
       "    }\n",
       "\n",
       "    .colab-df-convert {\n",
       "      background-color: #E8F0FE;\n",
       "      border: none;\n",
       "      border-radius: 50%;\n",
       "      cursor: pointer;\n",
       "      display: none;\n",
       "      fill: #1967D2;\n",
       "      height: 32px;\n",
       "      padding: 0 0 0 0;\n",
       "      width: 32px;\n",
       "    }\n",
       "\n",
       "    .colab-df-convert:hover {\n",
       "      background-color: #E2EBFA;\n",
       "      box-shadow: 0px 1px 2px rgba(60, 64, 67, 0.3), 0px 1px 3px 1px rgba(60, 64, 67, 0.15);\n",
       "      fill: #174EA6;\n",
       "    }\n",
       "\n",
       "    .colab-df-buttons div {\n",
       "      margin-bottom: 4px;\n",
       "    }\n",
       "\n",
       "    [theme=dark] .colab-df-convert {\n",
       "      background-color: #3B4455;\n",
       "      fill: #D2E3FC;\n",
       "    }\n",
       "\n",
       "    [theme=dark] .colab-df-convert:hover {\n",
       "      background-color: #434B5C;\n",
       "      box-shadow: 0px 1px 3px 1px rgba(0, 0, 0, 0.15);\n",
       "      filter: drop-shadow(0px 1px 2px rgba(0, 0, 0, 0.3));\n",
       "      fill: #FFFFFF;\n",
       "    }\n",
       "  </style>\n",
       "\n",
       "    <script>\n",
       "      const buttonEl =\n",
       "        document.querySelector('#df-9d4b5442-6f52-4341-9d1e-4c320c3b299e button.colab-df-convert');\n",
       "      buttonEl.style.display =\n",
       "        google.colab.kernel.accessAllowed ? 'block' : 'none';\n",
       "\n",
       "      async function convertToInteractive(key) {\n",
       "        const element = document.querySelector('#df-9d4b5442-6f52-4341-9d1e-4c320c3b299e');\n",
       "        const dataTable =\n",
       "          await google.colab.kernel.invokeFunction('convertToInteractive',\n",
       "                                                    [key], {});\n",
       "        if (!dataTable) return;\n",
       "\n",
       "        const docLinkHtml = 'Like what you see? Visit the ' +\n",
       "          '<a target=\"_blank\" href=https://colab.research.google.com/notebooks/data_table.ipynb>data table notebook</a>'\n",
       "          + ' to learn more about interactive tables.';\n",
       "        element.innerHTML = '';\n",
       "        dataTable['output_type'] = 'display_data';\n",
       "        await google.colab.output.renderOutput(dataTable, element);\n",
       "        const docLink = document.createElement('div');\n",
       "        docLink.innerHTML = docLinkHtml;\n",
       "        element.appendChild(docLink);\n",
       "      }\n",
       "    </script>\n",
       "  </div>\n",
       "\n",
       "\n",
       "<div id=\"df-fcaf1831-81e2-4cdf-9e51-2d307cf0b5e2\">\n",
       "  <button class=\"colab-df-quickchart\" onclick=\"quickchart('df-fcaf1831-81e2-4cdf-9e51-2d307cf0b5e2')\"\n",
       "            title=\"Suggest charts.\"\n",
       "            style=\"display:none;\">\n",
       "\n",
       "<svg xmlns=\"http://www.w3.org/2000/svg\" height=\"24px\"viewBox=\"0 0 24 24\"\n",
       "     width=\"24px\">\n",
       "    <g>\n",
       "        <path d=\"M19 3H5c-1.1 0-2 .9-2 2v14c0 1.1.9 2 2 2h14c1.1 0 2-.9 2-2V5c0-1.1-.9-2-2-2zM9 17H7v-7h2v7zm4 0h-2V7h2v10zm4 0h-2v-4h2v4z\"/>\n",
       "    </g>\n",
       "</svg>\n",
       "  </button>\n",
       "\n",
       "<style>\n",
       "  .colab-df-quickchart {\n",
       "      --bg-color: #E8F0FE;\n",
       "      --fill-color: #1967D2;\n",
       "      --hover-bg-color: #E2EBFA;\n",
       "      --hover-fill-color: #174EA6;\n",
       "      --disabled-fill-color: #AAA;\n",
       "      --disabled-bg-color: #DDD;\n",
       "  }\n",
       "\n",
       "  [theme=dark] .colab-df-quickchart {\n",
       "      --bg-color: #3B4455;\n",
       "      --fill-color: #D2E3FC;\n",
       "      --hover-bg-color: #434B5C;\n",
       "      --hover-fill-color: #FFFFFF;\n",
       "      --disabled-bg-color: #3B4455;\n",
       "      --disabled-fill-color: #666;\n",
       "  }\n",
       "\n",
       "  .colab-df-quickchart {\n",
       "    background-color: var(--bg-color);\n",
       "    border: none;\n",
       "    border-radius: 50%;\n",
       "    cursor: pointer;\n",
       "    display: none;\n",
       "    fill: var(--fill-color);\n",
       "    height: 32px;\n",
       "    padding: 0;\n",
       "    width: 32px;\n",
       "  }\n",
       "\n",
       "  .colab-df-quickchart:hover {\n",
       "    background-color: var(--hover-bg-color);\n",
       "    box-shadow: 0 1px 2px rgba(60, 64, 67, 0.3), 0 1px 3px 1px rgba(60, 64, 67, 0.15);\n",
       "    fill: var(--button-hover-fill-color);\n",
       "  }\n",
       "\n",
       "  .colab-df-quickchart-complete:disabled,\n",
       "  .colab-df-quickchart-complete:disabled:hover {\n",
       "    background-color: var(--disabled-bg-color);\n",
       "    fill: var(--disabled-fill-color);\n",
       "    box-shadow: none;\n",
       "  }\n",
       "\n",
       "  .colab-df-spinner {\n",
       "    border: 2px solid var(--fill-color);\n",
       "    border-color: transparent;\n",
       "    border-bottom-color: var(--fill-color);\n",
       "    animation:\n",
       "      spin 1s steps(1) infinite;\n",
       "  }\n",
       "\n",
       "  @keyframes spin {\n",
       "    0% {\n",
       "      border-color: transparent;\n",
       "      border-bottom-color: var(--fill-color);\n",
       "      border-left-color: var(--fill-color);\n",
       "    }\n",
       "    20% {\n",
       "      border-color: transparent;\n",
       "      border-left-color: var(--fill-color);\n",
       "      border-top-color: var(--fill-color);\n",
       "    }\n",
       "    30% {\n",
       "      border-color: transparent;\n",
       "      border-left-color: var(--fill-color);\n",
       "      border-top-color: var(--fill-color);\n",
       "      border-right-color: var(--fill-color);\n",
       "    }\n",
       "    40% {\n",
       "      border-color: transparent;\n",
       "      border-right-color: var(--fill-color);\n",
       "      border-top-color: var(--fill-color);\n",
       "    }\n",
       "    60% {\n",
       "      border-color: transparent;\n",
       "      border-right-color: var(--fill-color);\n",
       "    }\n",
       "    80% {\n",
       "      border-color: transparent;\n",
       "      border-right-color: var(--fill-color);\n",
       "      border-bottom-color: var(--fill-color);\n",
       "    }\n",
       "    90% {\n",
       "      border-color: transparent;\n",
       "      border-bottom-color: var(--fill-color);\n",
       "    }\n",
       "  }\n",
       "</style>\n",
       "\n",
       "  <script>\n",
       "    async function quickchart(key) {\n",
       "      const quickchartButtonEl =\n",
       "        document.querySelector('#' + key + ' button');\n",
       "      quickchartButtonEl.disabled = true;  // To prevent multiple clicks.\n",
       "      quickchartButtonEl.classList.add('colab-df-spinner');\n",
       "      try {\n",
       "        const charts = await google.colab.kernel.invokeFunction(\n",
       "            'suggestCharts', [key], {});\n",
       "      } catch (error) {\n",
       "        console.error('Error during call to suggestCharts:', error);\n",
       "      }\n",
       "      quickchartButtonEl.classList.remove('colab-df-spinner');\n",
       "      quickchartButtonEl.classList.add('colab-df-quickchart-complete');\n",
       "    }\n",
       "    (() => {\n",
       "      let quickchartButtonEl =\n",
       "        document.querySelector('#df-fcaf1831-81e2-4cdf-9e51-2d307cf0b5e2 button');\n",
       "      quickchartButtonEl.style.display =\n",
       "        google.colab.kernel.accessAllowed ? 'block' : 'none';\n",
       "    })();\n",
       "  </script>\n",
       "</div>\n",
       "    </div>\n",
       "  </div>\n"
      ],
      "text/plain": [
       "    epoch  Training Loss  Valid. Loss  Valid. Accur. Training Time  \\\n",
       "0       1           0.69         0.46           0.83       0:02:13   \n",
       "1       2           0.37         0.53           0.82       0:02:14   \n",
       "2       3           0.23         0.37           0.88       0:02:14   \n",
       "3       4           0.14         0.53           0.85       0:02:14   \n",
       "4       5           0.09         0.57           0.86       0:02:14   \n",
       "5       6           0.05         0.51           0.87       0:02:14   \n",
       "6       7           0.03         0.54           0.87       0:02:14   \n",
       "7       8           0.02         0.53           0.87       0:02:14   \n",
       "8       9           0.02         0.53           0.87       0:02:14   \n",
       "9      10           0.02         0.53           0.87       0:02:14   \n",
       "10     11           0.02         0.53           0.87       0:02:14   \n",
       "11     12           0.02         0.53           0.87       0:02:15   \n",
       "12     13           0.02         0.53           0.87       0:02:14   \n",
       "13     14           0.02         0.53           0.87       0:02:14   \n",
       "14     15           0.02         0.53           0.87       0:02:14   \n",
       "15     16           0.02         0.53           0.87       0:02:14   \n",
       "\n",
       "   Validation Time  \n",
       "0          0:00:20  \n",
       "1          0:00:20  \n",
       "2          0:00:20  \n",
       "3          0:00:20  \n",
       "4          0:00:20  \n",
       "5          0:00:20  \n",
       "6          0:00:20  \n",
       "7          0:00:20  \n",
       "8          0:00:20  \n",
       "9          0:00:20  \n",
       "10         0:00:20  \n",
       "11         0:00:20  \n",
       "12         0:00:20  \n",
       "13         0:00:20  \n",
       "14         0:00:20  \n",
       "15         0:00:20  "
      ]
     },
     "execution_count": 40,
     "metadata": {},
     "output_type": "execute_result"
    }
   ],
   "source": [
    "# Mostrar una tabla con un resumen del proceso de entrenamiento.\n",
    "\n",
    "import pandas as pd\n",
    "\n",
    "# Mostrar floats con hasta 2 decimales\n",
    "pd.set_option('display.precision', 2)\n",
    "\n",
    "# Crear un DataFrame para guardar las estadisticas de entrenamiento\n",
    "df_stats = pd.DataFrame(data=training_stats)\n",
    "\n",
    "# Usar el 'epoch' como el indice de fila de la tabla de estatisticas\n",
    "c = df_stats.set_index('epoch')\n",
    "\n",
    "# Un hack para forzar un ancho maximo de columnas de encabezado\n",
    "df_stats.style.set_table_styles([dict(selector=\"th\",props=[('max-width', '70px')])])\n",
    "\n",
    "# Mostra la tabla de estadisticas de entrenamiento\n",
    "df_stats"
   ]
  },
  {
   "cell_type": "markdown",
   "id": "1f7de8a6-e559-4f48-99d1-4e786519191a",
   "metadata": {},
   "source": [
    "Aca lo podemos ver gráficamente"
   ]
  },
  {
   "cell_type": "code",
   "execution_count": 41,
   "id": "O_qErgzF0CYr",
   "metadata": {
    "colab": {
     "base_uri": "https://localhost:8080/",
     "height": 592
    },
    "collapsed": true,
    "id": "O_qErgzF0CYr",
    "jupyter": {
     "outputs_hidden": true
    },
    "outputId": "1c4dd0c0-8cbc-4453-da03-5f15e1d1b666",
    "tags": []
   },
   "outputs": [
    {
     "data": {
      "image/png": "[encoded data removed]",
      "text/plain": [
       "<Figure size 1200x600 with 1 Axes>"
      ]
     },
     "metadata": {},
     "output_type": "display_data"
    }
   ],
   "source": [
    "# Dibujar un diagrama con train loss vs validation loss. Si todo sale bien,\n",
    "# validation loss debería descender y estabilizarse, aunque igual puede hacer overfitting.\n",
    "import matplotlib.pyplot as plt\n",
    "%matplotlib inline\n",
    "\n",
    "import seaborn as sns\n",
    "\n",
    "# Usar el estilo de dibujos de seaborn\n",
    "sns.set(style='darkgrid')\n",
    "\n",
    "# Agradar el area de dibujo y el tamaño de letra\n",
    "sns.set(font_scale=1.5)\n",
    "plt.rcParams[\"figure.figsize\"] = (12,6)\n",
    "\n",
    "# dibujar las curvas de aprendizaje\n",
    "plt.plot(df_stats['Training Loss'], 'b-o', label=\"Training\")\n",
    "plt.plot(df_stats['Valid. Loss'], 'g-o', label=\"Validation\")\n",
    "\n",
    "# Ponerle titulo\n",
    "plt.title(\"Training & Validation Loss\")\n",
    "plt.xlabel(\"Epoch\")\n",
    "plt.ylabel(\"Loss\")\n",
    "plt.legend()\n",
    "plt.xticks(list(range(1, EPOCHS+1)))\n",
    "\n",
    "plt.show()"
   ]
  },
  {
   "cell_type": "markdown",
   "id": "298d89df-80db-465b-890e-92606e2c76a1",
   "metadata": {
    "colab": {
     "base_uri": "https://localhost:8080/"
    },
    "id": "-BdnzqKE6Lgi",
    "outputId": "771168ad-52e4-4ebd-a51c-3cef60f13884"
   },
   "source": [
    "# Vemos las métricas en el dataset de validación (5% del dataset original)"
   ]
  },
  {
   "cell_type": "markdown",
   "id": "d390aa6d-0beb-4a5a-9f20-ef3b728bf17e",
   "metadata": {},
   "source": [
    "Primero cargamos el mejor modelo que entrenamos en el fine-tunning, para eso lo cargamos en la variable model_dir."
   ]
  },
  {
   "cell_type": "code",
   "execution_count": 41,
   "id": "j38WFpUB6YuP",
   "metadata": {
    "colab": {
     "base_uri": "https://localhost:8080/",
     "height": 35
    },
    "id": "j38WFpUB6YuP",
    "outputId": "8190e52e-0625-4975-a20b-c75c9f0cc5a3"
   },
   "outputs": [
    {
     "name": "stdout",
     "output_type": "stream",
     "text": [
      "Cargando modelo de clasificación BERT con finetuning desde el directorio: /Users/achain/Downloads/bert_finetuned_time_local...\n",
      "Modelo BERT en /Users/achain/Downloads/bert_finetuned_time_local cargado.\n"
     ]
    }
   ],
   "source": [
    "from transformers import BertForSequenceClassification\n",
    "from transformers import BertTokenizer\n",
    "\n",
    "model_dir = '/Users/achain/Downloads/bert_finetuned_time_local'\n",
    "print(f\"Cargando modelo de clasificación BERT con finetuning desde el directorio: {model_dir}...\")\n",
    "model = BertForSequenceClassification.from_pretrained(model_dir)\n",
    "tokenizer = BertTokenizer.from_pretrained(model_dir)\n",
    "with open(model_dir+ '/'+ \"label_texts.txt\", \"rt\") as f:\n",
    "  label_texts = f.read().split('\\n')\n",
    "print(f\"Modelo BERT en {model_dir} cargado.\")\n",
    "\n",
    "if is_gpu:\n",
    "   # copiar al modelo desde CPU a GPU\n",
    "    model.to(device)"
   ]
  },
  {
   "cell_type": "code",
   "execution_count": 42,
   "id": "387acd74-3127-4b00-89cf-fd127523d3e3",
   "metadata": {},
   "outputs": [],
   "source": [
    "# URL del dataset en Github\n",
    "zip_file_url = 'https://github.com/alechain/bert_classification_new/raw/main/articles_df_final.parquet.zip'\n",
    "\n",
    "# Descargamos el ZIP\n",
    "response = requests.get(zip_file_url)\n",
    "\n",
    "# chequeamos si se descargo bien (status code 200)\n",
    "if response.status_code == 200:\n",
    "    # Read the content of the zip file\n",
    "    with zipfile.ZipFile(BytesIO(response.content), 'r') as zip_file:\n",
    "        # Assume there's only one file in the zip, you may need to modify accordingly\n",
    "        file_name = zip_file.namelist()[0]\n",
    "\n",
    "        # Read the parquet file using pandas\n",
    "        with zip_file.open(file_name) as parquet_file:\n",
    "            my_dataset = pd.read_parquet(BytesIO(parquet_file.read()))\n",
    "else:\n",
    "    print(f\"Failed to download the file. Status code: {response.status_code}\")\n",
    "    \n",
    "#Filtramos posibles errores en articulos con longitud muy pequeña:\n",
    "my_dataset=my_dataset[[len(i)>=200 for i in my_dataset.sentence]].reset_index(drop=True)\n",
    "\n",
    "val_dataset=pd.DataFrame()\n",
    "for i in my_dataset.label.unique():\n",
    "    val_dataset=pd.concat([val_dataset,my_dataset[my_dataset['label']==i].sort_values(['label','date'],ascending=[True,False]).head(300)],axis=0)\n",
    "    \n",
    "my_dataset=my_dataset[~my_dataset.index.isin(val_dataset.index)].reset_index(drop=True)\n",
    "\n",
    "val_dataset=val_dataset.reset_index(drop=True)"
   ]
  },
  {
   "cell_type": "code",
   "execution_count": null,
   "id": "dfca11a4-1056-49b8-aa18-1fbc193673da",
   "metadata": {},
   "outputs": [],
   "source": []
  },
  {
   "cell_type": "code",
   "execution_count": 43,
   "id": "2Z1HYtIL6hrk",
   "metadata": {
    "id": "2Z1HYtIL6hrk"
   },
   "outputs": [],
   "source": [
    "test_sentences=val_dataset.iloc[:,1].to_list()\n"
   ]
  },
  {
   "cell_type": "code",
   "execution_count": 44,
   "id": "ca783015-75e0-42bd-a6c9-b514e369701d",
   "metadata": {},
   "outputs": [],
   "source": [
    "result_model=[]\n",
    "MY_DATASET_MAX_TOKENS=512\n",
    "\n",
    "for sent in test_sentences:\n",
    "    # `encode_plus` DEBE SIEMPRE usar los mismos parametros usados durante fine tuning\n",
    "    encoded_dict = tokenizer.encode_plus(\n",
    "                        sent,                      # Frase a codificar.\n",
    "                        add_special_tokens = True, # Agregar '[CLS]' y '[SEP]'\n",
    "                        max_length = MY_DATASET_MAX_TOKENS,  # Llenar con el token PAD a frases cortas, o truncar frases mas  largas que MAX_TOKENS\n",
    "                        padding='max_length',\n",
    "                        truncation=True,\n",
    "                        return_token_type_ids=True,\n",
    "                        return_attention_mask = True,   # Construir las attn. masks.\n",
    "                        return_tensors = 'pt',     # retornar pytorch tensors.\n",
    "                   )\n",
    "    encoded_dict.to(device)\n",
    "\n",
    "    output = model(**encoded_dict)\n",
    "    result_model.append(label_texts[output.logits.argmax(dim=1).item()])"
   ]
  },
  {
   "cell_type": "code",
   "execution_count": 45,
   "id": "700f4584-4542-4ca4-9837-7756a84c2371",
   "metadata": {},
   "outputs": [],
   "source": [
    "result_model=pd.Series(result_model,name='model_result')\n",
    "val_dataset['model_result']=result_model"
   ]
  },
  {
   "cell_type": "code",
   "execution_count": 46,
   "id": "892699b6-6d82-4772-9c95-4f330d1ffd33",
   "metadata": {},
   "outputs": [],
   "source": [
    "from sklearn.metrics import confusion_matrix, classification_report\n",
    "\n",
    "# Assuming df is your DataFrame\n",
    "ground_truth = val_dataset['label']\n",
    "predictions = val_dataset['model_result']\n"
   ]
  },
  {
   "cell_type": "code",
   "execution_count": 47,
   "id": "a9a9c67c-ff61-482d-ab8d-c3a8032951a8",
   "metadata": {},
   "outputs": [
    {
     "data": {
      "image/png": "[encoded data removed]",
      "text/plain": [
       "<Figure size 720x576 with 2 Axes>"
      ]
     },
     "metadata": {
      "needs_background": "light"
     },
     "output_type": "display_data"
    },
    {
     "name": "stdout",
     "output_type": "stream",
     "text": [
      "\n",
      "Classification Report:\n",
      "              precision    recall  f1-score   support\n",
      "\n",
      "         eco       0.97      0.80      0.88       300\n",
      "      el-mun       0.93      0.97      0.95       300\n",
      "      el-pai       0.80      0.93      0.86       300\n",
      "       socie       0.89      0.88      0.89       300\n",
      "\n",
      "    accuracy                           0.89      1200\n",
      "   macro avg       0.90      0.89      0.89      1200\n",
      "weighted avg       0.90      0.89      0.89      1200\n",
      "\n"
     ]
    }
   ],
   "source": [
    "import matplotlib.pyplot as plt\n",
    "import seaborn as sns\n",
    "from tabulate import tabulate\n",
    "from io import StringIO\n",
    "\n",
    "\n",
    "# Create a confusion matrix\n",
    "conf_matrix = confusion_matrix(ground_truth, predictions, labels=val_dataset['label'].unique())\n",
    "\n",
    "# Plot the confusion matrix using seaborn\n",
    "plt.figure(figsize=(10, 8))\n",
    "sns.heatmap(conf_matrix, annot=True, fmt=\"d\", cmap=\"Blues\", xticklabels=val_dataset['label'].unique(), yticklabels=val_dataset['label'].unique())\n",
    "plt.xlabel('Predicted')\n",
    "plt.ylabel('Actual')\n",
    "plt.title('Confusion Matrix')\n",
    "plt.show()\n",
    "\n",
    "# Display the classification report\n",
    "class_report = classification_report(ground_truth, predictions)\n",
    "print(\"\\nClassification Report:\")\n",
    "print(class_report)"
   ]
  },
  {
   "cell_type": "code",
   "execution_count": 48,
   "id": "226840bf-125f-46a7-b620-74453bdc02eb",
   "metadata": {},
   "outputs": [
    {
     "data": {
      "text/plain": [
       "array([[239,   6,  13,  42],\n",
       "       [  0, 291,   7,   2],\n",
       "       [  2,  11, 263,  24],\n",
       "       [  5,   4,  11, 280]])"
      ]
     },
     "execution_count": 48,
     "metadata": {},
     "output_type": "execute_result"
    }
   ],
   "source": [
    "conf_matrix"
   ]
  },
  {
   "cell_type": "code",
   "execution_count": 49,
   "id": "8429e937-a86f-4d08-8f8e-2407ef1803c6",
   "metadata": {},
   "outputs": [
    {
     "data": {
      "text/plain": [
       "array(['eco', 'el-mun', 'socie', 'el-pai'], dtype=object)"
      ]
     },
     "execution_count": 49,
     "metadata": {},
     "output_type": "execute_result"
    }
   ],
   "source": [
    "val_dataset['label'].unique()"
   ]
  },
  {
   "cell_type": "code",
   "execution_count": null,
   "id": "bb482259-6a5a-4fa6-995d-44fe47572f69",
   "metadata": {},
   "outputs": [],
   "source": []
  }
 ],
 "metadata": {
  "accelerator": "GPU",
  "colab": {
   "gpuType": "T4",
   "include_colab_link": true,
   "provenance": []
  },
  "kernelspec": {
   "display_name": "Python 3 (ipykernel)",
   "language": "python",
   "name": "python3"
  },
  "language_info": {
   "codemirror_mode": {
    "name": "ipython",
    "version": 3
   },
   "file_extension": ".py",
   "mimetype": "text/x-python",
   "name": "python",
   "nbconvert_exporter": "python",
   "pygments_lexer": "ipython3",
   "version": "3.8.13"
  }
 },
 "nbformat": 4,
 "nbformat_minor": 5
}
